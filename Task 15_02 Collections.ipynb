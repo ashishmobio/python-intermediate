{
 "cells": [
  {
   "cell_type": "markdown",
   "id": "2b7c91cc",
   "metadata": {},
   "source": [
    "# Collections in Python"
   ]
  },
  {
   "cell_type": "markdown",
   "id": "b5418db8",
   "metadata": {},
   "source": [
    "* Counter \n",
    "* namedtuple\n",
    "* OrderedDict\n",
    "* defaultdict\n",
    "* deque"
   ]
  },
  {
   "cell_type": "markdown",
   "id": "410052b3",
   "metadata": {},
   "source": [
    "## Counter\n",
    "\n",
    "Counter is a sub-class that is used to count hashable objects. It implicitly creates a hash table of an iterable when invoked.\n",
    "\n",
    "elements() is one of the functions of Counter class, when invoked on the Counter object will return an itertool of all the known elements in the Counter object."
   ]
  },
  {
   "cell_type": "code",
   "execution_count": 1,
   "id": "8819d247",
   "metadata": {},
   "outputs": [],
   "source": [
    "from collections import Counter"
   ]
  },
  {
   "cell_type": "code",
   "execution_count": 2,
   "id": "78042537",
   "metadata": {},
   "outputs": [],
   "source": [
    "s = 'aaaaabbbbccc'"
   ]
  },
  {
   "cell_type": "code",
   "execution_count": 3,
   "id": "cbd60e07",
   "metadata": {},
   "outputs": [],
   "source": [
    "my_counter = Counter(s)"
   ]
  },
  {
   "cell_type": "code",
   "execution_count": 4,
   "id": "898b176a",
   "metadata": {},
   "outputs": [
    {
     "data": {
      "text/plain": [
       "Counter({'a': 5, 'b': 4, 'c': 3})"
      ]
     },
     "execution_count": 4,
     "metadata": {},
     "output_type": "execute_result"
    }
   ],
   "source": [
    "my_counter"
   ]
  },
  {
   "cell_type": "code",
   "execution_count": 5,
   "id": "8f27c927",
   "metadata": {},
   "outputs": [
    {
     "data": {
      "text/plain": [
       "dict_keys(['a', 'b', 'c'])"
      ]
     },
     "execution_count": 5,
     "metadata": {},
     "output_type": "execute_result"
    }
   ],
   "source": [
    "my_counter.keys()"
   ]
  },
  {
   "cell_type": "code",
   "execution_count": 6,
   "id": "6aeb2e8b",
   "metadata": {},
   "outputs": [
    {
     "data": {
      "text/plain": [
       "dict_values([5, 4, 3])"
      ]
     },
     "execution_count": 6,
     "metadata": {},
     "output_type": "execute_result"
    }
   ],
   "source": [
    "my_counter.values()"
   ]
  },
  {
   "cell_type": "code",
   "execution_count": 7,
   "id": "911b5a10",
   "metadata": {},
   "outputs": [
    {
     "data": {
      "text/plain": [
       "dict_items([('a', 5), ('b', 4), ('c', 3)])"
      ]
     },
     "execution_count": 7,
     "metadata": {},
     "output_type": "execute_result"
    }
   ],
   "source": [
    "my_counter.items()"
   ]
  },
  {
   "cell_type": "code",
   "execution_count": 8,
   "id": "fcac31f8",
   "metadata": {},
   "outputs": [
    {
     "data": {
      "text/plain": [
       "[('a', 5), ('b', 4), ('c', 3)]"
      ]
     },
     "execution_count": 8,
     "metadata": {},
     "output_type": "execute_result"
    }
   ],
   "source": [
    "my_counter.most_common()"
   ]
  },
  {
   "cell_type": "code",
   "execution_count": 9,
   "id": "49487a1d",
   "metadata": {},
   "outputs": [
    {
     "data": {
      "text/plain": [
       "[('a', 5)]"
      ]
     },
     "execution_count": 9,
     "metadata": {},
     "output_type": "execute_result"
    }
   ],
   "source": [
    "my_counter.most_common(1)"
   ]
  },
  {
   "cell_type": "code",
   "execution_count": 10,
   "id": "3de3733d",
   "metadata": {},
   "outputs": [
    {
     "data": {
      "text/plain": [
       "[('a', 5), ('b', 4)]"
      ]
     },
     "execution_count": 10,
     "metadata": {},
     "output_type": "execute_result"
    }
   ],
   "source": [
    "my_counter.most_common(2)"
   ]
  },
  {
   "cell_type": "code",
   "execution_count": 11,
   "id": "09c804f6",
   "metadata": {},
   "outputs": [
    {
     "data": {
      "text/plain": [
       "'a'"
      ]
     },
     "execution_count": 11,
     "metadata": {},
     "output_type": "execute_result"
    }
   ],
   "source": [
    "## most common item\n",
    "my_counter.most_common(1)[0][0]"
   ]
  },
  {
   "cell_type": "code",
   "execution_count": 12,
   "id": "605617ed",
   "metadata": {},
   "outputs": [
    {
     "data": {
      "text/plain": [
       "5"
      ]
     },
     "execution_count": 12,
     "metadata": {},
     "output_type": "execute_result"
    }
   ],
   "source": [
    "## occurence of most common item\n",
    "my_counter.most_common(1)[0][1]"
   ]
  },
  {
   "cell_type": "code",
   "execution_count": 13,
   "id": "6bbf0c58",
   "metadata": {},
   "outputs": [
    {
     "data": {
      "text/plain": [
       "['a', 'a', 'a', 'a', 'a', 'b', 'b', 'b', 'b', 'c', 'c', 'c']"
      ]
     },
     "execution_count": 13,
     "metadata": {},
     "output_type": "execute_result"
    }
   ],
   "source": [
    "# iterable\n",
    "list(my_counter.elements())"
   ]
  },
  {
   "cell_type": "code",
   "execution_count": 14,
   "id": "7e6c2cb8",
   "metadata": {},
   "outputs": [
    {
     "name": "stdout",
     "output_type": "stream",
     "text": [
      "Counter({'o': 4, 'i': 2, 's': 2, 'm': 1, 'b': 1, 'l': 1, 'u': 1, 't': 1, 'n': 1})\n",
      "m o o o o b i i s s l u t n "
     ]
    }
   ],
   "source": [
    "## Working of elements() on a simple data container  \n",
    "x = Counter(\"mobiosolutions\")\n",
    "print(x)\n",
    "# printing the elements of counter object\n",
    "for i in x.elements():\n",
    "    print ( i, end = \" \")"
   ]
  },
  {
   "cell_type": "code",
   "execution_count": 15,
   "id": "0c33cb88",
   "metadata": {},
   "outputs": [
    {
     "name": "stdout",
     "output_type": "stream",
     "text": [
      "Counter({'c': 6, 'e': 5, 'b': 3, 'a': 2, 'd': 1})\n",
      "a a b b b c c c c c c d e e e e e "
     ]
    }
   ],
   "source": [
    " # Elements on a variety of Counter Objects with different data-containers\n",
    "d = Counter( a = 2, b = 3, c = 6, d = 1, e = 5)\n",
    "print(Counter(d))\n",
    "for i in d.elements():\n",
    "    print(i, end = \" \")"
   ]
  },
  {
   "cell_type": "code",
   "execution_count": 16,
   "id": "51b685b5",
   "metadata": {},
   "outputs": [
    {
     "name": "stdout",
     "output_type": "stream",
     "text": [
      "Counter({'apple': 3, 'orange': 2})\n",
      "apple apple apple orange orange "
     ]
    }
   ],
   "source": [
    "d = Counter( {'apple':3, 'orange':2})\n",
    "print(Counter(d))\n",
    "for i in d.elements():\n",
    "    print(i, end = \" \")"
   ]
  },
  {
   "cell_type": "code",
   "execution_count": 17,
   "id": "d5ae743f",
   "metadata": {},
   "outputs": [
    {
     "data": {
      "text/plain": [
       "Counter({'If': 2,\n",
       "         'you': 2,\n",
       "         'did': 2,\n",
       "         'know': 2,\n",
       "         'to': 1,\n",
       "         'whom': 2,\n",
       "         'I': 4,\n",
       "         'gave': 3,\n",
       "         'the': 6,\n",
       "         'ring': 5,\n",
       "         'for': 2,\n",
       "         'And': 2,\n",
       "         'would': 3,\n",
       "         'conceive': 1,\n",
       "         'what': 1,\n",
       "         'how': 1,\n",
       "         'unwillingly': 1,\n",
       "         'left': 1,\n",
       "         'When': 1,\n",
       "         'naught': 1,\n",
       "         'be': 1,\n",
       "         'accepted': 1,\n",
       "         'but': 1,\n",
       "         'You': 1,\n",
       "         'abate': 1,\n",
       "         'strength': 1,\n",
       "         'of': 1,\n",
       "         'your': 1,\n",
       "         'displeasure': 1})"
      ]
     },
     "execution_count": 17,
     "metadata": {},
     "output_type": "execute_result"
    }
   ],
   "source": [
    "## Count the words in a paragraph\n",
    "paragraph = '''\n",
    "If you did know to whom I gave the ring,\n",
    "If you did know for whom I gave the ring\n",
    "And would conceive for what I gave the ring\n",
    "And how unwillingly I left the ring,\n",
    "When naught would be accepted but the ring,\n",
    "You would abate the strength of your displeasure.\n",
    "'''\n",
    "paragraph = paragraph.replace(',','').replace('.','').replace('\\n', ' ')\n",
    "Counter(paragraph.split())"
   ]
  },
  {
   "cell_type": "markdown",
   "id": "8a69b12f",
   "metadata": {},
   "source": [
    "Application of Counter: \n",
    "\n",
    "Counter object along with its functions are used collectively for processing huge amounts of data. We can see that Counter() creates a hash-map for the data container invoked with it which is very useful than by manual processing of elements."
   ]
  },
  {
   "cell_type": "markdown",
   "id": "d3bbfc16",
   "metadata": {},
   "source": [
    "# namedtuple\n",
    "\n",
    "Python supports a type of container like dictionaries called “namedtuple()” present in the module, “collections“. \n",
    "\n",
    "Like dictionaries, they contain keys that are hashed to a particular value. \n",
    "\n",
    "But on contrary, it supports both access from index as well as key, the functionality that dictionaries lack"
   ]
  },
  {
   "cell_type": "code",
   "execution_count": 18,
   "id": "91cd4cd7",
   "metadata": {},
   "outputs": [],
   "source": [
    "from collections import namedtuple"
   ]
  },
  {
   "cell_type": "code",
   "execution_count": 19,
   "id": "e431444c",
   "metadata": {},
   "outputs": [],
   "source": [
    "Point = namedtuple('Point', ['x', 'y'])\n",
    "# This will create a class Point with fields x and y"
   ]
  },
  {
   "cell_type": "code",
   "execution_count": 20,
   "id": "7b7a7e95",
   "metadata": {},
   "outputs": [
    {
     "data": {
      "text/plain": [
       "Point(x=1, y=-4)"
      ]
     },
     "execution_count": 20,
     "metadata": {},
     "output_type": "execute_result"
    }
   ],
   "source": [
    "p1 = Point(1,-4)\n",
    "p1"
   ]
  },
  {
   "cell_type": "code",
   "execution_count": 21,
   "id": "a968197c",
   "metadata": {},
   "outputs": [
    {
     "data": {
      "text/plain": [
       "(1, -4)"
      ]
     },
     "execution_count": 21,
     "metadata": {},
     "output_type": "execute_result"
    }
   ],
   "source": [
    "p1.x, p1.y"
   ]
  },
  {
   "cell_type": "code",
   "execution_count": 22,
   "id": "2df28056",
   "metadata": {},
   "outputs": [
    {
     "data": {
      "text/plain": [
       "Point(x=5, y=6)"
      ]
     },
     "execution_count": 22,
     "metadata": {},
     "output_type": "execute_result"
    }
   ],
   "source": [
    "p2 = Point(5,6)\n",
    "p2"
   ]
  },
  {
   "cell_type": "code",
   "execution_count": 23,
   "id": "64eba747",
   "metadata": {},
   "outputs": [
    {
     "data": {
      "text/plain": [
       "(5, 6)"
      ]
     },
     "execution_count": 23,
     "metadata": {},
     "output_type": "execute_result"
    }
   ],
   "source": [
    "p2.x, p2.y"
   ]
  },
  {
   "cell_type": "code",
   "execution_count": 24,
   "id": "4ec6c901",
   "metadata": {},
   "outputs": [
    {
     "name": "stdout",
     "output_type": "stream",
     "text": [
      "The Student name using index is Nandini.\n",
      "The Student age using index is 19.\n",
      "The Student DOB using index is 25-04-2003.\n",
      "-----------------------------------------\n",
      "The Student name using index is Nandini.\n",
      "The Student age using index is 19.\n",
      "The Student DOB using index is 25-04-2003.\n"
     ]
    }
   ],
   "source": [
    "# Another python code to demonstrate namedtuple()\n",
    "\n",
    "# Declaring namedtuple()\n",
    "Student = namedtuple('Student', ['name', 'age', 'DOB'])\n",
    "  \n",
    "# Adding values\n",
    "S = Student('Nandini', '19', '25-04-2003')\n",
    "  \n",
    "# Access using index\n",
    "print(f\"The Student name using index is {S[0]}.\")\n",
    "print(f\"The Student age using index is {S[1]}.\")\n",
    "print(f\"The Student DOB using index is {S[2]}.\")\n",
    "print(f\"-----------------------------------------\")\n",
    "\n",
    "# Access using name\n",
    "print(f\"The Student name using index is {S.name}.\")\n",
    "print(f\"The Student age using index is {S.age}.\")\n",
    "print(f\"The Student DOB using index is {S.DOB}.\")"
   ]
  },
  {
   "cell_type": "code",
   "execution_count": 25,
   "id": "30b1364c",
   "metadata": {},
   "outputs": [
    {
     "data": {
      "text/plain": [
       "Student(name='Manjeet', age='22', DOB='04-01-2001')"
      ]
     },
     "execution_count": 25,
     "metadata": {},
     "output_type": "execute_result"
    }
   ],
   "source": [
    "# namedtuple from a list using ._make\n",
    "my_list = ['Manjeet', '22', '04-01-2001']\n",
    "Student._make(my_list)"
   ]
  },
  {
   "cell_type": "code",
   "execution_count": 26,
   "id": "c7ad0d07",
   "metadata": {},
   "outputs": [
    {
     "data": {
      "text/plain": [
       "Student(name='Nikhil', age=25, DOB='13-09-1997')"
      ]
     },
     "execution_count": 26,
     "metadata": {},
     "output_type": "execute_result"
    }
   ],
   "source": [
    "# namedtuple from a dictionary using **\n",
    "my_dict = {'name': \"Nikhil\", 'age': 25, 'DOB': '13-09-1997'}\n",
    "Student(**my_dict)"
   ]
  },
  {
   "cell_type": "code",
   "execution_count": 27,
   "id": "220cf775",
   "metadata": {},
   "outputs": [
    {
     "data": {
      "text/plain": [
       "Student(name='Nandini', age='19', DOB='25-04-2003')"
      ]
     },
     "execution_count": 27,
     "metadata": {},
     "output_type": "execute_result"
    }
   ],
   "source": [
    "S"
   ]
  },
  {
   "cell_type": "code",
   "execution_count": 28,
   "id": "8af2815c",
   "metadata": {},
   "outputs": [
    {
     "name": "stdout",
     "output_type": "stream",
     "text": [
      "All the fields of students are : \n",
      "('name', 'age', 'DOB')\n"
     ]
    }
   ],
   "source": [
    "# using _fields to display all the keynames of namedtuple()\n",
    "print(\"All the fields of students are : \")\n",
    "print(S._fields)"
   ]
  },
  {
   "cell_type": "code",
   "execution_count": 29,
   "id": "057f8a07",
   "metadata": {},
   "outputs": [
    {
     "name": "stdout",
     "output_type": "stream",
     "text": [
      "returns a new namedtuple : \n",
      "Student(name='Rajesh', age='19', DOB='25-04-2003')\n",
      "Student(name='Nandini', age='19', DOB='25-04-2003')\n"
     ]
    }
   ],
   "source": [
    "# ._replace returns a new namedtuple, it does not modify the original\n",
    "print(\"returns a new namedtuple : \")\n",
    "print(S._replace(name='Rajesh'))\n",
    "# original namedtuple\n",
    "print(S)"
   ]
  },
  {
   "cell_type": "code",
   "execution_count": 30,
   "id": "ae8fa95a",
   "metadata": {},
   "outputs": [
    {
     "name": "stdout",
     "output_type": "stream",
     "text": [
      "Student(name='Akash', age='05', DOB='07-06-2017')\n"
     ]
    }
   ],
   "source": [
    "S = Student('Akash', '05', '07-06-2017')\n",
    "print(S)"
   ]
  },
  {
   "cell_type": "code",
   "execution_count": 31,
   "id": "8460de7b",
   "metadata": {},
   "outputs": [
    {
     "name": "stdout",
     "output_type": "stream",
     "text": [
      "2 Lab Sammy\n",
      "2 Lab Sammy\n",
      "2 Shepard Frankie\n",
      "2 Shepard Frankie\n"
     ]
    }
   ],
   "source": [
    "## one more example just for practice\n",
    "Dog = namedtuple('Dog',['age','breed','name'])\n",
    "sam = Dog(age=2,breed='Lab',name='Sammy')\n",
    "frank = Dog(age=2,breed='Shepard',name=\"Frankie\")\n",
    "\n",
    "print(sam.age, sam.breed, sam.name)\n",
    "print(sam[0], sam[1], sam[2])\n",
    "print(frank.age, frank.breed, frank.name)\n",
    "print(frank[0], frank[1], frank[2])"
   ]
  },
  {
   "cell_type": "markdown",
   "id": "4643e78c",
   "metadata": {},
   "source": [
    "## OrderedDict\n",
    "\n",
    "An OrderedDict is a dictionary subclass that remembers the order that keys were first inserted. The only difference between dict() and OrderedDict() is that:\n",
    "\n",
    "OrderedDict preserves the order in which the keys are inserted. A regular dict doesn’t track the insertion order and iterating it gives the values in an arbitrary order. By contrast, the order the items are inserted is remembered by OrderedDict."
   ]
  },
  {
   "cell_type": "code",
   "execution_count": 32,
   "id": "1d07e4d4",
   "metadata": {},
   "outputs": [
    {
     "name": "stdout",
     "output_type": "stream",
     "text": [
      "This is a Dict:\n",
      "\n",
      "a 1\n",
      "b 2\n",
      "c 3\n",
      "d 4\n",
      "\n",
      "This is an Ordered Dict:\n",
      "\n",
      "a 1\n",
      "b 2\n",
      "c 3\n",
      "d 4\n"
     ]
    }
   ],
   "source": [
    "# A Python program to demonstrate working of OrderedDict\n",
    "from collections import OrderedDict\n",
    " \n",
    "print(\"This is a Dict:\\n\")\n",
    "d = {}\n",
    "d['a'] = 1\n",
    "d['b'] = 2\n",
    "d['c'] = 3\n",
    "d['d'] = 4\n",
    " \n",
    "for key, value in d.items():\n",
    "    print(key, value)\n",
    " \n",
    "print(\"\\nThis is an Ordered Dict:\\n\")\n",
    "od = OrderedDict()\n",
    "od['a'] = 1\n",
    "od['b'] = 2\n",
    "od['c'] = 3\n",
    "od['d'] = 4\n",
    " \n",
    "for key, value in od.items():\n",
    "    print(key, value)"
   ]
  },
  {
   "cell_type": "code",
   "execution_count": 33,
   "id": "94915c5d",
   "metadata": {},
   "outputs": [
    {
     "name": "stdout",
     "output_type": "stream",
     "text": [
      "Before:\n",
      "\n",
      "a 1\n",
      "b 2\n",
      "c 3\n",
      "d 4\n",
      "\n",
      "After:\n",
      "\n",
      "a 1\n",
      "b 2\n",
      "c 5\n",
      "d 4\n"
     ]
    }
   ],
   "source": [
    "# If the value of a certain key is changed, the position of the key remains unchanged in OrderedDict.\n",
    "\n",
    "print(\"Before:\\n\")\n",
    "od = OrderedDict()\n",
    "od['a'] = 1\n",
    "od['b'] = 2\n",
    "od['c'] = 3\n",
    "od['d'] = 4\n",
    "for key, value in od.items():\n",
    "    print(key, value)\n",
    " \n",
    "print(\"\\nAfter:\\n\")\n",
    "od['c'] = 5\n",
    "for key, value in od.items():\n",
    "    print(key, value)"
   ]
  },
  {
   "cell_type": "code",
   "execution_count": 34,
   "id": "9e7569be",
   "metadata": {},
   "outputs": [
    {
     "name": "stdout",
     "output_type": "stream",
     "text": [
      "Before deleting:\n",
      "\n",
      "a 1\n",
      "b 2\n",
      "c 3\n",
      "d 4\n",
      "\n",
      "After deleting:\n",
      "\n",
      "a 1\n",
      "b 2\n",
      "d 4\n",
      "\n",
      "After re-inserting:\n",
      "\n",
      "a 1\n",
      "b 2\n",
      "d 4\n",
      "c 3\n"
     ]
    }
   ],
   "source": [
    "# Deleting and re-inserting the same key will push it to the back as OrderedDict, however, maintains the order of insertion.\n",
    "\n",
    "print(\"Before deleting:\\n\")\n",
    "od = OrderedDict()\n",
    "od['a'] = 1\n",
    "od['b'] = 2\n",
    "od['c'] = 3\n",
    "od['d'] = 4\n",
    " \n",
    "for key, value in od.items():\n",
    "    print(key, value)\n",
    " \n",
    "print(\"\\nAfter deleting:\\n\")\n",
    "od.pop('c')\n",
    "for key, value in od.items():\n",
    "    print(key, value)\n",
    " \n",
    "print(\"\\nAfter re-inserting:\\n\")\n",
    "od['c'] = 3\n",
    "for key, value in od.items():\n",
    "    print(key, value)"
   ]
  },
  {
   "cell_type": "code",
   "execution_count": 35,
   "id": "c78f8e70",
   "metadata": {},
   "outputs": [
    {
     "name": "stdout",
     "output_type": "stream",
     "text": [
      "{'a': 1, 'b': 2, 'd': 4, 'c': 3}\n"
     ]
    }
   ],
   "source": [
    "## Note: Starting from Python 3.7, insertion order of Python simple dictionaries is guaranteed.\n",
    "\n",
    "simple_dict = {}\n",
    "simple_dict['a'] = 1\n",
    "simple_dict['b'] = 2\n",
    "simple_dict['d'] = 4\n",
    "simple_dict['c'] = 3\n",
    "\n",
    "print(simple_dict)"
   ]
  },
  {
   "cell_type": "markdown",
   "id": "5214c692",
   "metadata": {},
   "source": [
    "## defaultdict in Python\n",
    "Defaultdict is a container like dictionaries present in the module collections. Defaultdict is a sub-class of the dictionary class that returns a dictionary-like object. The functionality of both dictionaries and defaultdict are almost same except for the fact that defaultdict never raises a KeyError. It provides a default value for the key that does not exists."
   ]
  },
  {
   "cell_type": "code",
   "execution_count": 36,
   "id": "3c7e734c",
   "metadata": {},
   "outputs": [],
   "source": [
    "from collections import defaultdict"
   ]
  },
  {
   "cell_type": "code",
   "execution_count": 37,
   "id": "6582e111",
   "metadata": {},
   "outputs": [
    {
     "name": "stdout",
     "output_type": "stream",
     "text": [
      "1\n",
      "2\n",
      "Not Present\n",
      "Not Present\n"
     ]
    }
   ],
   "source": [
    "# Function to return a default values for keys that is not present\n",
    "def def_value():\n",
    "    return \"Not Present\"\n",
    "      \n",
    "# Defining the dict\n",
    "d = defaultdict(def_value)\n",
    "d[\"a\"] = 1\n",
    "d[\"b\"] = 2\n",
    "  \n",
    "print(d[\"a\"])\n",
    "print(d[\"b\"])\n",
    "print(d[\"c\"])\n",
    "print(d[\"z\"])"
   ]
  },
  {
   "cell_type": "code",
   "execution_count": 38,
   "id": "c3ad9528",
   "metadata": {},
   "outputs": [
    {
     "name": "stdout",
     "output_type": "stream",
     "text": [
      "1\n",
      "2\n",
      "0\n",
      "0\n"
     ]
    }
   ],
   "source": [
    "# default values could be integer, in this case it will return zero for non-existing keys\n",
    "\n",
    "d = defaultdict(int)\n",
    "d[\"a\"] = 1\n",
    "d[\"b\"] = 2\n",
    "  \n",
    "print(d[\"a\"])\n",
    "print(d[\"b\"])\n",
    "print(d[\"c\"])\n",
    "print(d[\"z\"])"
   ]
  },
  {
   "cell_type": "code",
   "execution_count": 39,
   "id": "fc37bd15",
   "metadata": {},
   "outputs": [
    {
     "name": "stdout",
     "output_type": "stream",
     "text": [
      "1\n",
      "2\n",
      "0.0\n",
      "0.0\n"
     ]
    }
   ],
   "source": [
    "# default values could be float in this case it will return zero for non-existing keys\n",
    "\n",
    "d = defaultdict(float)\n",
    "d[\"a\"] = 1\n",
    "d[\"b\"] = 2\n",
    "  \n",
    "print(d[\"a\"])\n",
    "print(d[\"b\"])\n",
    "print(d[\"c\"])\n",
    "print(d[\"z\"])"
   ]
  },
  {
   "cell_type": "code",
   "execution_count": 40,
   "id": "12396c4d",
   "metadata": {},
   "outputs": [
    {
     "name": "stdout",
     "output_type": "stream",
     "text": [
      "1\n",
      "2\n",
      "[]\n",
      "[]\n"
     ]
    }
   ],
   "source": [
    "# default values could be float in this case it will return empty list for non-existing keys\n",
    "\n",
    "d = defaultdict(list)\n",
    "d[\"a\"] = 1\n",
    "d[\"b\"] = 2\n",
    "  \n",
    "print(d[\"a\"])\n",
    "print(d[\"b\"])\n",
    "print(d[\"c\"])\n",
    "print(d[\"z\"])"
   ]
  },
  {
   "cell_type": "code",
   "execution_count": 41,
   "id": "ddfe9501",
   "metadata": {},
   "outputs": [
    {
     "name": "stdout",
     "output_type": "stream",
     "text": [
      "1\n",
      "2\n",
      "1000\n",
      "1000\n"
     ]
    }
   ],
   "source": [
    "# default values using lambda\n",
    "\n",
    "d = defaultdict(lambda: 1000)\n",
    "d[\"a\"] = 1\n",
    "d[\"b\"] = 2\n",
    "  \n",
    "print(d[\"a\"])\n",
    "print(d[\"b\"])\n",
    "print(d[\"c\"])\n",
    "print(d[\"z\"])"
   ]
  },
  {
   "cell_type": "markdown",
   "id": "a3af2c38",
   "metadata": {},
   "source": [
    "## Deque\n",
    "\n",
    "Deque (Doubly Ended Queue) in Python is implemented using the module \"collections\". Deque is preferred over a list in the cases where we need quicker append and pop operations from both the ends of the container,"
   ]
  },
  {
   "cell_type": "code",
   "execution_count": 42,
   "id": "27aa2b24",
   "metadata": {},
   "outputs": [],
   "source": [
    "from collections import deque"
   ]
  },
  {
   "cell_type": "code",
   "execution_count": 43,
   "id": "3b4bd4c7",
   "metadata": {},
   "outputs": [
    {
     "name": "stdout",
     "output_type": "stream",
     "text": [
      "deque([1, 2, 3])\n",
      "deque([1, 2, 3, 4])\n",
      "deque([0, 1, 2, 3, 4])\n"
     ]
    }
   ],
   "source": [
    "## append elements\n",
    "d = deque([1, 2, 3])\n",
    "print(d)\n",
    "d.append(4)\n",
    "print(d)\n",
    "d.appendleft(0)\n",
    "print(d)"
   ]
  },
  {
   "cell_type": "code",
   "execution_count": 44,
   "id": "51ec9bde",
   "metadata": {},
   "outputs": [
    {
     "name": "stdout",
     "output_type": "stream",
     "text": [
      "deque([0])\n",
      "deque([0, 1, 2])\n",
      "deque([-2, -1, 0, 1, 2])\n"
     ]
    }
   ],
   "source": [
    "## extend elements\n",
    "d = deque([0])\n",
    "print(d)\n",
    "d.extend([1, 2])\n",
    "print(d)\n",
    "d.extendleft([-1,-2])\n",
    "print(d)"
   ]
  },
  {
   "cell_type": "code",
   "execution_count": 45,
   "id": "09b4645c",
   "metadata": {},
   "outputs": [
    {
     "name": "stdout",
     "output_type": "stream",
     "text": [
      "deque([1, 2, 3])\n",
      "deque([1, 2])\n",
      "deque([2])\n"
     ]
    }
   ],
   "source": [
    "## pop elements\n",
    "d = deque([1, 2, 3])\n",
    "print(d)\n",
    "d.pop()\n",
    "print(d)\n",
    "d.popleft()\n",
    "print(d)"
   ]
  },
  {
   "cell_type": "code",
   "execution_count": 46,
   "id": "c082c848",
   "metadata": {},
   "outputs": [
    {
     "name": "stdout",
     "output_type": "stream",
     "text": [
      "Rotating by 2 elements right\n",
      "deque([1, 2, 3, 4, 5, 6, 7, 8])\n",
      "deque([7, 8, 1, 2, 3, 4, 5, 6])\n",
      "-------------------------------\n",
      "Rotating by 2 elements left\n",
      "deque([1, 2, 3, 4, 5, 6, 7, 8])\n",
      "deque([3, 4, 5, 6, 7, 8, 1, 2])\n"
     ]
    }
   ],
   "source": [
    "## rotate elements\n",
    "\n",
    "print('Rotating by 2 elements right')\n",
    "d = deque([1, 2, 3, 4, 5, 6, 7, 8])\n",
    "print(d)\n",
    "d.rotate(2)\n",
    "print(d)\n",
    "print('-------------------------------')\n",
    "\n",
    "### left\n",
    "print('Rotating by 2 elements left')\n",
    "d = deque([1, 2, 3, 4, 5, 6, 7, 8])\n",
    "print(d)\n",
    "d.rotate(-2)\n",
    "print(d)"
   ]
  },
  {
   "cell_type": "markdown",
   "id": "e9d5b5be",
   "metadata": {},
   "source": [
    "Resources:\n",
    "1. https://www.youtube.com/watch?v=UdcPhnNjSEw\n",
    "2. https://www.geeksforgeeks.org/"
   ]
  },
  {
   "cell_type": "code",
   "execution_count": null,
   "id": "4957aaa2",
   "metadata": {},
   "outputs": [],
   "source": []
  }
 ],
 "metadata": {
  "kernelspec": {
   "display_name": "Python 3 (ipykernel)",
   "language": "python",
   "name": "python3"
  },
  "language_info": {
   "codemirror_mode": {
    "name": "ipython",
    "version": 3
   },
   "file_extension": ".py",
   "mimetype": "text/x-python",
   "name": "python",
   "nbconvert_exporter": "python",
   "pygments_lexer": "ipython3",
   "version": "3.9.12"
  }
 },
 "nbformat": 4,
 "nbformat_minor": 5
}
