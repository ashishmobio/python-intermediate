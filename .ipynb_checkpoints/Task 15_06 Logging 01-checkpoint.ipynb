{
 "cells": [
  {
   "cell_type": "markdown",
   "id": "2aa0f65c",
   "metadata": {},
   "source": [
    "## Logging Basics - Logging to Files, Setting Levels, and Formatting"
   ]
  },
  {
   "cell_type": "code",
   "execution_count": 1,
   "id": "9e236548",
   "metadata": {},
   "outputs": [],
   "source": [
    "def add(x, y):\n",
    "    \"\"\"Add Function\"\"\"\n",
    "    return x + y\n",
    "\n",
    "\n",
    "def subtract(x, y):\n",
    "    \"\"\"Subtract Function\"\"\"\n",
    "    return x - y\n",
    "\n",
    "\n",
    "def multiply(x, y):\n",
    "    \"\"\"Multiply Function\"\"\"\n",
    "    return x * y\n",
    "\n",
    "\n",
    "def divide(x, y):\n",
    "    \"\"\"Divide Function\"\"\"\n",
    "    return x / y"
   ]
  },
  {
   "cell_type": "code",
   "execution_count": 2,
   "id": "37edccb9",
   "metadata": {},
   "outputs": [
    {
     "name": "stdout",
     "output_type": "stream",
     "text": [
      "Add: 20 + 10 = 30\n",
      "Sub: 20 - 10 = 10\n",
      "Mul: 20 * 10 = 200\n",
      "Div: 20 / 10 = 2.0\n"
     ]
    }
   ],
   "source": [
    "num_1 = 20\n",
    "num_2 = 10\n",
    "\n",
    "add_result = add(num_1, num_2)\n",
    "print('Add: {} + {} = {}'.format(num_1, num_2, add_result))\n",
    "\n",
    "sub_result = subtract(num_1, num_2)\n",
    "print('Sub: {} - {} = {}'.format(num_1, num_2, sub_result))\n",
    "\n",
    "mul_result = multiply(num_1, num_2)\n",
    "print('Mul: {} * {} = {}'.format(num_1, num_2, mul_result))\n",
    "\n",
    "div_result = divide(num_1, num_2)\n",
    "print('Div: {} / {} = {}'.format(num_1, num_2, div_result))"
   ]
  },
  {
   "cell_type": "code",
   "execution_count": 3,
   "id": "9ec607be",
   "metadata": {},
   "outputs": [],
   "source": [
    "import logging"
   ]
  },
  {
   "cell_type": "markdown",
   "id": "75701221",
   "metadata": {},
   "source": [
    "* DEBUG: Detailed information, typically of interest only when diagnosing problems.\n",
    "\n",
    "* INFO: Confirmation that things are working as expected.\n",
    "\n",
    "* WARNING: An indication that something unexpected happened, or indicative of some problem in the near future (e.g. ‘disk space low’). The software is still working as expected.\n",
    "\n",
    "* ERROR: Due to a more serious problem, the software has not been able to perform some function.\n",
    "\n",
    "* CRITICAL: A serious error, indicating that the program itself may be unable to continue running."
   ]
  },
  {
   "cell_type": "markdown",
   "id": "97f9fc2c",
   "metadata": {},
   "source": [
    "Note: By default level for logging is set to WARNING or above, that is it will capture WARNING, ERROR and CRITICAL, ignoring DEBUG and INFO statements."
   ]
  },
  {
   "cell_type": "code",
   "execution_count": 4,
   "id": "8ab96523",
   "metadata": {},
   "outputs": [
    {
     "name": "stderr",
     "output_type": "stream",
     "text": [
      "WARNING:root:Add: 30 + 20 = 50\n",
      "WARNING:root:Sub: 30 - 20 = 10\n",
      "WARNING:root:Mul: 30 * 20 = 600\n",
      "WARNING:root:Div: 30 / 20 = 1.5\n"
     ]
    }
   ],
   "source": [
    "num_1 = 30\n",
    "num_2 = 20\n",
    "\n",
    "add_result = add(num_1, num_2)\n",
    "logging.warning('Add: {} + {} = {}'.format(num_1, num_2, add_result))\n",
    "\n",
    "sub_result = subtract(num_1, num_2)\n",
    "logging.warning('Sub: {} - {} = {}'.format(num_1, num_2, sub_result))\n",
    "\n",
    "mul_result = multiply(num_1, num_2)\n",
    "logging.warning('Mul: {} * {} = {}'.format(num_1, num_2, mul_result))\n",
    "\n",
    "div_result = divide(num_1, num_2)\n",
    "logging.warning('Div: {} / {} = {}'.format(num_1, num_2, div_result))\n",
    "\n",
    "## Not really warnings though."
   ]
  },
  {
   "cell_type": "code",
   "execution_count": 5,
   "id": "d57ba750",
   "metadata": {},
   "outputs": [
    {
     "name": "stdout",
     "output_type": "stream",
     "text": [
      "DEBUG:root:Add: 40 + 30 = 70\n",
      "DEBUG:root:Sub: 40 - 30 = 10\n",
      "DEBUG:root:Mul: 40 * 30 = 1200\n",
      "DEBUG:root:Div: 40 / 30 = 1.3333333333333333\n",
      "\n"
     ]
    }
   ],
   "source": [
    "# Setting the basic configuration, logging level to DEBUG\n",
    "# with a log file\n",
    "\n",
    "file = logging.basicConfig(filename = 'testingfile01.log',\n",
    "                    level = logging.DEBUG,\n",
    "                    force = True)\n",
    "\n",
    "num_1 = 40\n",
    "num_2 = 30\n",
    "\n",
    "add_result = add(num_1, num_2)\n",
    "logging.debug('Add: {} + {} = {}'.format(num_1, num_2, add_result))\n",
    "\n",
    "sub_result = subtract(num_1, num_2)\n",
    "logging.debug('Sub: {} - {} = {}'.format(num_1, num_2, sub_result))\n",
    "\n",
    "mul_result = multiply(num_1, num_2)\n",
    "logging.debug('Mul: {} * {} = {}'.format(num_1, num_2, mul_result))\n",
    "\n",
    "div_result = divide(num_1, num_2)\n",
    "logging.debug('Div: {} / {} = {}'.format(num_1, num_2, div_result))\n",
    "\n",
    "with open('testingfile01.log') as log:\n",
    "    print(log.read())\n",
    "    log.close()"
   ]
  },
  {
   "cell_type": "code",
   "execution_count": 6,
   "id": "11ca74b6",
   "metadata": {},
   "outputs": [
    {
     "name": "stdout",
     "output_type": "stream",
     "text": [
      "2022-10-10 17:03:13,918:DEBUG:Add: 50 + 40 = 90\n",
      "2022-10-10 17:03:13,919:DEBUG:Sub: 50 - 40 = 10\n",
      "2022-10-10 17:03:13,919:DEBUG:Mul: 50 * 40 = 2000\n",
      "2022-10-10 17:03:13,919:DEBUG:Div: 50 / 40 = 1.25\n",
      "\n"
     ]
    }
   ],
   "source": [
    "# Setting the basic configuration with format\n",
    "logging.basicConfig(filename='testingfile02.log', level=logging.DEBUG,\n",
    "                    format='%(asctime)s:%(levelname)s:%(message)s',\n",
    "                    force = True)\n",
    "\n",
    "num_1 = 50\n",
    "num_2 = 40\n",
    "\n",
    "add_result = add(num_1, num_2)\n",
    "logging.debug('Add: {} + {} = {}'.format(num_1, num_2, add_result))\n",
    "\n",
    "sub_result = subtract(num_1, num_2)\n",
    "logging.debug('Sub: {} - {} = {}'.format(num_1, num_2, sub_result))\n",
    "\n",
    "mul_result = multiply(num_1, num_2)\n",
    "logging.debug('Mul: {} * {} = {}'.format(num_1, num_2, mul_result))\n",
    "\n",
    "div_result = divide(num_1, num_2)\n",
    "logging.debug('Div: {} / {} = {}'.format(num_1, num_2, div_result))\n",
    "\n",
    "\n",
    "with open('testingfile02.log') as log:\n",
    "    print(log.read())\n",
    "    log.close()"
   ]
  },
  {
   "cell_type": "code",
   "execution_count": 7,
   "id": "9a225a36",
   "metadata": {},
   "outputs": [
    {
     "name": "stdout",
     "output_type": "stream",
     "text": [
      "INFO:Created Employee: John Smith - John.Smith@email.com\n",
      "INFO:Created Employee: Corey Schafer - Corey.Schafer@email.com\n",
      "INFO:Created Employee: Jane Doe - Jane.Doe@email.com\n",
      "\n"
     ]
    }
   ],
   "source": [
    "logging.basicConfig(filename='employee.log', level=logging.INFO,\n",
    "                    format='%(levelname)s:%(message)s',\n",
    "                    force = True)\n",
    "\n",
    "\n",
    "class Employee:\n",
    "    \"\"\"A sample Employee class\"\"\"\n",
    "\n",
    "    def __init__(self, first, last):\n",
    "        self.first = first\n",
    "        self.last = last\n",
    "\n",
    "        logging.info('Created Employee: {} - {}'.format(self.fullname, self.email))\n",
    "\n",
    "    @property\n",
    "    def email(self):\n",
    "        return '{}.{}@email.com'.format(self.first, self.last)\n",
    "\n",
    "    @property\n",
    "    def fullname(self):\n",
    "        return '{} {}'.format(self.first, self.last)\n",
    "    \n",
    "    \n",
    "emp_1 = Employee('John', 'Smith')\n",
    "emp_2 = Employee('Corey', 'Schafer')\n",
    "emp_3 = Employee('Jane', 'Doe')\n",
    "\n",
    "\n",
    "with open('employee.log') as log:\n",
    "    print(log.read())\n",
    "    log.close()"
   ]
  }
 ],
 "metadata": {
  "kernelspec": {
   "display_name": "Python 3 (ipykernel)",
   "language": "python",
   "name": "python3"
  },
  "language_info": {
   "codemirror_mode": {
    "name": "ipython",
    "version": 3
   },
   "file_extension": ".py",
   "mimetype": "text/x-python",
   "name": "python",
   "nbconvert_exporter": "python",
   "pygments_lexer": "ipython3",
   "version": "3.9.12"
  }
 },
 "nbformat": 4,
 "nbformat_minor": 5
}
