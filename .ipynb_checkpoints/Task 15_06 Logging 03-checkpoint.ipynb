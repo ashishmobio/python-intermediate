{
 "cells": [
  {
   "cell_type": "markdown",
   "id": "4af8950d",
   "metadata": {},
   "source": [
    "## Four reasons a Python logging library is much better than putting print statements everywhere"
   ]
  },
  {
   "cell_type": "markdown",
   "id": "f3909d75",
   "metadata": {},
   "source": [
    "Logging is critical if you want to diagnose problems or understand what’s happening with your Python application. \n",
    "\n",
    "In this lesson, we see why using Python’s logging library is preferable to just putting ‘print’ statements everywhere in your code.\n",
    "\n",
    "The Python logging library lets you:\n",
    "\n",
    "* Control what’s emitted\n",
    "* Define what types of information you want to include in your logs\n",
    "* Configure how it looks when it’s emitted\n",
    "* Most importantly, set the destination for your logs"
   ]
  },
  {
   "cell_type": "markdown",
   "id": "6dcb3ca0",
   "metadata": {},
   "source": [
    "## First, Some Python Logging Basics\n",
    "\n",
    "Here’s a bare-bones example of logging in Python:"
   ]
  },
  {
   "cell_type": "code",
   "execution_count": 1,
   "id": "5b9d10a6",
   "metadata": {},
   "outputs": [
    {
     "name": "stderr",
     "output_type": "stream",
     "text": [
      "Citizens of Earth, be warned!\n"
     ]
    }
   ],
   "source": [
    "import logging\n",
    "\n",
    "# Get the top-level logger object\n",
    "log = logging.getLogger()\n",
    "\n",
    "# make it print to the console.\n",
    "console = logging.StreamHandler()\n",
    "log.addHandler(console)\n",
    "\n",
    "# emit a warning to the puny Humans\n",
    "log.warning('Citizens of Earth, be warned!')\n",
    "\n",
    "## Citizens of Earth, be warned!"
   ]
  },
  {
   "cell_type": "markdown",
   "id": "3a593521",
   "metadata": {},
   "source": [
    "You import the logging library, you define here where you want log events to go, and then you emit a log event."
   ]
  },
  {
   "cell_type": "markdown",
   "id": "6ed562ca",
   "metadata": {},
   "source": [
    "## The Python Library Can Add Context\n",
    "With the Python library at your service, you can include several more types of metadata in your logs. By doing so, you’ll gain valuable context around your log messages to help you diagnose a problem or figure out what’s going on in your system."
   ]
  },
  {
   "cell_type": "markdown",
   "id": "6ab4e8fb",
   "metadata": {},
   "source": [
    "## Logging Levels\n",
    "Not all log messages are created equal. Logging levels are listed here in the Python documentation; we’ll include them here for reference. When you set a logging level in Python using the standard module, you’re telling the library you want to handle all events from that level up. Setting the log level to INFO will include INFO, WARNING, ERROR, and CRITICAL messages. NOTSET and DEBUG messages will not be included here.\n",
    "\n",
    "![Logging Levels](https://www.loggly.com/wp-content/uploads/2022/09/logging-levels.png)\n"
   ]
  },
  {
   "cell_type": "markdown",
   "id": "714da0a5",
   "metadata": {},
   "source": [
    "## You Can Log Severity Levels\n",
    "Segmenting log events by severity level is a good way to sift through which log messages may be most relevant at a given time. A log event’s severity level also gives you an indication of how worried you should be when you see a particular message.\n",
    "\n",
    "When you’re still developing your code, debug information is very useful. You want to have the most detailed diagnostic log messages available.\n",
    "\n",
    "When you’re running your application, log info messages. These are just things that say, “I opened a socket” or “I got a request” or “The database record is inserted correctly,” for example.\n",
    "\n",
    "Warnings are things that aren’t quite problems yet but might be signs of a future problem. For example, “The disk is 80% full” or “Latency is starting to creep up.” Warning messages tell you what to keep an eye on so that you can take care of business before a problem erupts.\n",
    "\n",
    "Errors are things that demand immediate attention. If you see a message like, “I tried to reconnect, but the database isn’t there,” you should be worried. Now.\n",
    "\n",
    "And finally, criticals are indications of big problems. Your program is not likely to be able to continue, and users won’t be able to use the application.\n",
    "\n",
    "Here’s a quick example of how you can set your logging level in your logger to log only things that are error and above. So, the warning message “Citizens of Earth, be warned” is not displayed. However, the critical message “Citizens of Earth, your planet will be removed NOW” does appear in the console when you run your program."
   ]
  },
  {
   "cell_type": "code",
   "execution_count": 5,
   "id": "27c914ec",
   "metadata": {},
   "outputs": [
    {
     "name": "stderr",
     "output_type": "stream",
     "text": [
      "Citizens of Earth, your planet will be removed NOW!\n",
      "2022-10-11 12:15:23,239\tCRITICAL -- MainProcess 409853094.py:11 -- Citizens of Earth, your planet will be removed NOW!\n"
     ]
    }
   ],
   "source": [
    "import logging\n",
    "log = logging.getLogger()\n",
    "\n",
    "# Set a severity threshold to one above WARN\n",
    "log.setLevel(logging.ERROR)\n",
    "\n",
    "# This WARNING will not reach the Humans.\n",
    "log.warning('Citizens of Earth, be warned!')\n",
    "\n",
    "# This CRITICAL message, however, will not be ignored.\n",
    "log.critical('Citizens of Earth, your planet will be removed NOW!')\n",
    "\n",
    "## Citizens of Earth, your planet will be removed NOW!"
   ]
  },
  {
   "cell_type": "markdown",
   "id": "ba321133",
   "metadata": {},
   "source": [
    "## You Can Use Timestamps\n",
    "Timing can be everything when you’re trying to understand what went wrong with an application. You want to know the answers to questions like:\n",
    "\n",
    "* “Was this happening before or after my database connection died?”\n",
    "* “Did the crash occur before or after I ran out of disk space?”\n",
    "* “Exactly when did that request come in?”\n",
    "\n",
    "The Python logging library can help you add timestamped information into your log without you having to call `datetime.datetime.now()` all the time. So, please don’t do that. Please use the timestamps provided by the logging library instead."
   ]
  },
  {
   "cell_type": "markdown",
   "id": "b4ea8789",
   "metadata": {},
   "source": [
    "## You Know Your Logs’ Origin\n",
    "The logging library that Python provides also helps you gather context about where a particular log message was emitted. You can capture which module it came from, even down to the function and line number in your code. If you’re running something that’s multi-threaded, it can tell you from which thread the log message was emitted.\n",
    "\n",
    "Here’s an example with both timestamps along with file and line number information"
   ]
  },
  {
   "cell_type": "code",
   "execution_count": 3,
   "id": "b33aab9c",
   "metadata": {},
   "outputs": [
    {
     "name": "stderr",
     "output_type": "stream",
     "text": [
      "CRIT Citizens of Earth, be warned!\n",
      "2022-10-11 12:12:41,802\tCRITICAL -- MainProcess 650147244.py:13 -- CRIT Citizens of Earth, be warned!\n"
     ]
    }
   ],
   "source": [
    "import logging\n",
    "\n",
    "log = logging.getLogger() # 'root' Logger\n",
    "\n",
    "console = logging.StreamHandler()\n",
    "\n",
    "format_str = '%(asctime)s\\t%(levelname)s -- %(processName)s %(filename)s:%(lineno)s -- %(message)s'\n",
    "console.setFormatter(logging.Formatter(format_str))\n",
    "\n",
    "log.addHandler(console) # prints to console.\n",
    "log.setLevel(logging.ERROR) # anything ERROR or above\n",
    "log.warning('Citizens of Earth, be warned!')\n",
    "log.critical('CRIT Citizens of Earth, be warned!')"
   ]
  },
  {
   "cell_type": "markdown",
   "id": "48b7ff0d",
   "metadata": {},
   "source": [
    "I didn’t have to add much code here. You’ll notice that I still call ‘warning’ and ‘critical,’ and the logging framework injected all of this context for me."
   ]
  },
  {
   "cell_type": "markdown",
   "id": "12876ec1",
   "metadata": {},
   "source": [
    "## Configuration over Code\n",
    "In my last example, I did a lot of stuff in code; I was telling the logging library exactly what I wanted. If you’re working on a Python application that involves more than a couple of modules, configuring all of that imperatively gets kind of tiresome. Thankfully, the Python logging library also includes a way for you to declaratively provide this configuration.\n",
    "\n",
    "Configuration also allows you to easily change logging behavior when moving between different deployment environments. For example, you may want debugging logs to print to the console while in development, but only info- to critical-level logs to be saved to a file when your application is running in production. \n",
    "\n",
    "You create a Python dictionary that defines the formats, handlers, and destinations for specific types of logs. The dictionary tells the Python logging framework how to wire all the available pieces to get the desired logging behavior. The pieces include:\n",
    "\n",
    "* Formatter: Responsible for taking a log event and putting it into a given text format.\n",
    "* Handler:  Responsible for taking that stream and moving it somewhere. The Python logging library includes several handlers. SyslogHandler and HTTPHandler are of particular interest to Loggly users because they are ways that you can send logs to Loggly without employing any agents:\n",
    "    * StreamHandler sends logs to a stream-like object, for example to a console via stdout.\n",
    "    * FileHandler directs log events to a file.\n",
    "    * SyslogHandler directs logs to the syslog daemon on your system.\n",
    "    * HTTPHandler lets you send logs over HTTP.\n",
    "    * NullHandler sends your logs to nowhere–useful for temporarily stopping logs.\n",
    "* Filters: With filters, you can choose to prevent certain messages from going through or to modify the information in messages. For example, you can save only info-level or higher messages to disk or to prevent user IP addresses from being logged to disk.\n",
    "* Loggers: What ties it all together. Loggers are the main API to the logging framework. That’s how the warn, debug, and info methods are exposed to you."
   ]
  },
  {
   "cell_type": "code",
   "execution_count": 27,
   "id": "864038c4",
   "metadata": {},
   "outputs": [
    {
     "name": "stderr",
     "output_type": "stream",
     "text": [
      "2022-10-11 12:35:56,436\tCRITICAL -- MainProcess 4289415747.py:34 -- Your planet will be destroyed in 3, 2, 1...\n"
     ]
    }
   ],
   "source": [
    "import logging\n",
    "import logging.config\n",
    "\n",
    "LOGGING_CONFIG = {\n",
    "    'version': 1, # required\n",
    "    'disable_existing_loggers': True, # this config overrides all other loggers\n",
    "    'formatters': {\n",
    "        'simple': {\n",
    "            'format': '%(asctime)s %(levelname)s -- %(message)s'\n",
    "        },\n",
    "        'whenAndWhere': {\n",
    "            'format': '%(asctime)s\\t%(levelname)s -- %(processName)s %(filename)s:%(lineno)s -- %(message)s'\n",
    "        }\n",
    "    },\n",
    "    'handlers': {\n",
    "        'console': {\n",
    "            'level': 'DEBUG',\n",
    "            'class': 'logging.StreamHandler',\n",
    "            'formatter': 'whenAndWhere'\n",
    "        }\n",
    "    },\n",
    "    'loggers': {\n",
    "        '': { # 'root' logger\n",
    "            'level': 'CRITICAL',\n",
    "            'handlers': ['console']\n",
    "        }\n",
    "    }\n",
    "}\n",
    "\n",
    "logging.config.dictConfig(LOGGING_CONFIG)\n",
    "log = logging.getLogger('') # factory method\n",
    "\n",
    "log.warning('Citizens of Earth, be warned!')\n",
    "log.critical('Your planet will be destroyed in 3, 2, 1...')"
   ]
  },
  {
   "cell_type": "code",
   "execution_count": null,
   "id": "9437b1b3",
   "metadata": {},
   "outputs": [],
   "source": []
  }
 ],
 "metadata": {
  "kernelspec": {
   "display_name": "Python 3 (ipykernel)",
   "language": "python",
   "name": "python3"
  },
  "language_info": {
   "codemirror_mode": {
    "name": "ipython",
    "version": 3
   },
   "file_extension": ".py",
   "mimetype": "text/x-python",
   "name": "python",
   "nbconvert_exporter": "python",
   "pygments_lexer": "ipython3",
   "version": "3.9.12"
  }
 },
 "nbformat": 4,
 "nbformat_minor": 5
}
