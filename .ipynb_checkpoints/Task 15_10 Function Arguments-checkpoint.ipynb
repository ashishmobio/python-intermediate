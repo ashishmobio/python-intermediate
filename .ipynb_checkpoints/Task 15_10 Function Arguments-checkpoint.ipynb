{
 "cells": [
  {
   "cell_type": "markdown",
   "id": "026492e9",
   "metadata": {},
   "source": [
    "## Function Arguments"
   ]
  },
  {
   "cell_type": "markdown",
   "id": "2fed0cf8",
   "metadata": {},
   "source": [
    "Resource: https://www.youtube.com/watch?v=iSEyb7ehLK0"
   ]
  },
  {
   "cell_type": "markdown",
   "id": "c3c163e0",
   "metadata": {},
   "source": [
    "### Difference between Argument and Parameter\n",
    "\n",
    "* A parameter is the variable listed inside the parentheses in the function definition. \n",
    "* An argument is the value that are sent to the function when it is called."
   ]
  },
  {
   "cell_type": "code",
   "execution_count": 1,
   "id": "1f000ab5",
   "metadata": {},
   "outputs": [
    {
     "name": "stdout",
     "output_type": "stream",
     "text": [
      "Ashish\n"
     ]
    }
   ],
   "source": [
    "# name is parameter\n",
    "def print_name(name):\n",
    "    print(name)\n",
    "\n",
    "# 'Ashish' is argument\n",
    "print('Ashish')"
   ]
  },
  {
   "cell_type": "markdown",
   "id": "fff81aa4",
   "metadata": {},
   "source": [
    "### Difference between Positional and Keyword Arguments"
   ]
  },
  {
   "cell_type": "code",
   "execution_count": 2,
   "id": "a9f10638",
   "metadata": {},
   "outputs": [],
   "source": [
    "def foo(a, b, c):\n",
    "    print(a, b, c)"
   ]
  },
  {
   "cell_type": "code",
   "execution_count": 3,
   "id": "b3d45e0a",
   "metadata": {},
   "outputs": [
    {
     "name": "stdout",
     "output_type": "stream",
     "text": [
      "1 2 3\n"
     ]
    }
   ],
   "source": [
    "# positional arguments\n",
    "foo(1, 2, 3)"
   ]
  },
  {
   "cell_type": "code",
   "execution_count": 4,
   "id": "5bb3938e",
   "metadata": {},
   "outputs": [
    {
     "name": "stdout",
     "output_type": "stream",
     "text": [
      "1 2 3\n"
     ]
    }
   ],
   "source": [
    "# keyword arguments\n",
    "foo(b=2,a=1, c=3)"
   ]
  },
  {
   "cell_type": "markdown",
   "id": "e7563941",
   "metadata": {},
   "source": [
    "### Default Arguments"
   ]
  },
  {
   "cell_type": "code",
   "execution_count": 5,
   "id": "ebae8c40",
   "metadata": {},
   "outputs": [],
   "source": [
    "def foo(a, b, c = 5):\n",
    "    print(a, b, c)"
   ]
  },
  {
   "cell_type": "code",
   "execution_count": 6,
   "id": "76d007d5",
   "metadata": {},
   "outputs": [
    {
     "name": "stdout",
     "output_type": "stream",
     "text": [
      "1 2 3\n"
     ]
    }
   ],
   "source": [
    "foo(1, 2, 3)"
   ]
  },
  {
   "cell_type": "code",
   "execution_count": 7,
   "id": "05f1f942",
   "metadata": {},
   "outputs": [
    {
     "name": "stdout",
     "output_type": "stream",
     "text": [
      "1 2 5\n"
     ]
    }
   ],
   "source": [
    "foo(1, 2)"
   ]
  },
  {
   "cell_type": "markdown",
   "id": "a0a3f439",
   "metadata": {},
   "source": [
    "### Variable Length Arguments"
   ]
  },
  {
   "cell_type": "code",
   "execution_count": 8,
   "id": "5b5be1a9",
   "metadata": {},
   "outputs": [],
   "source": [
    "# args - arguments\n",
    "# kwargs - keyword arguments"
   ]
  },
  {
   "cell_type": "code",
   "execution_count": 9,
   "id": "4811d6e8",
   "metadata": {},
   "outputs": [],
   "source": [
    "def foo(a, b):\n",
    "    print(a,b)\n",
    "    return sum((a,b))"
   ]
  },
  {
   "cell_type": "code",
   "execution_count": 10,
   "id": "8b8f33da",
   "metadata": {},
   "outputs": [
    {
     "name": "stdout",
     "output_type": "stream",
     "text": [
      "2 3\n"
     ]
    },
    {
     "data": {
      "text/plain": [
       "5"
      ]
     },
     "execution_count": 10,
     "metadata": {},
     "output_type": "execute_result"
    }
   ],
   "source": [
    "foo(2,3)"
   ]
  },
  {
   "cell_type": "code",
   "execution_count": 11,
   "id": "20ce8914",
   "metadata": {},
   "outputs": [],
   "source": [
    "# args - arguments\n",
    "def foo(*args):\n",
    "    print(args)\n",
    "    return sum(args)"
   ]
  },
  {
   "cell_type": "code",
   "execution_count": 12,
   "id": "b817461d",
   "metadata": {},
   "outputs": [
    {
     "name": "stdout",
     "output_type": "stream",
     "text": [
      "(2, 3, 7)\n"
     ]
    },
    {
     "data": {
      "text/plain": [
       "12"
      ]
     },
     "execution_count": 12,
     "metadata": {},
     "output_type": "execute_result"
    }
   ],
   "source": [
    "foo(2,3,7)"
   ]
  },
  {
   "cell_type": "code",
   "execution_count": 13,
   "id": "3fddeabc",
   "metadata": {},
   "outputs": [],
   "source": [
    "def foo(*args):\n",
    "    for item in args:\n",
    "        print(item)"
   ]
  },
  {
   "cell_type": "code",
   "execution_count": 14,
   "id": "b35d6d33",
   "metadata": {},
   "outputs": [
    {
     "name": "stdout",
     "output_type": "stream",
     "text": [
      "11\n",
      "12\n",
      "13\n",
      "14\n",
      "15\n"
     ]
    }
   ],
   "source": [
    "foo(11,12,13,14,15)"
   ]
  },
  {
   "cell_type": "code",
   "execution_count": 15,
   "id": "24d28c08",
   "metadata": {},
   "outputs": [],
   "source": [
    "# kwargs - kewword arguments, a dictionary of key, vpalue pairs\n",
    "def foo(**kwargs):\n",
    "    print(kwargs)\n",
    "    for key, value in kwargs.items():\n",
    "        print(f\"key = {key}, value = {value}\")"
   ]
  },
  {
   "cell_type": "code",
   "execution_count": 16,
   "id": "df29554f",
   "metadata": {},
   "outputs": [
    {
     "name": "stdout",
     "output_type": "stream",
     "text": [
      "{'a': 1, 'b': 2, 'c': 3}\n",
      "key = a, value = 1\n",
      "key = b, value = 2\n",
      "key = c, value = 3\n"
     ]
    }
   ],
   "source": [
    "foo(a = 1, b = 2, c = 3)"
   ]
  },
  {
   "cell_type": "code",
   "execution_count": 17,
   "id": "4125090a",
   "metadata": {},
   "outputs": [],
   "source": [
    "def foo(*args, **kwargs):\n",
    "    print(args)\n",
    "    print(kwargs)"
   ]
  },
  {
   "cell_type": "code",
   "execution_count": 18,
   "id": "aef46653",
   "metadata": {},
   "outputs": [
    {
     "name": "stdout",
     "output_type": "stream",
     "text": [
      "(11, 12, 13)\n",
      "{'a': 1, 'b': 2, 'c': 3}\n"
     ]
    }
   ],
   "source": [
    "foo(11,12, 13, a = 1, b = 2, c = 3)"
   ]
  },
  {
   "cell_type": "markdown",
   "id": "7c013c52",
   "metadata": {},
   "source": [
    "Define a function called myfunc that takes in an arbitrary number of arguments, and returns a list containing only those arguments that are even.\n",
    "\n"
   ]
  },
  {
   "cell_type": "code",
   "execution_count": 19,
   "id": "d9af6d25",
   "metadata": {},
   "outputs": [],
   "source": [
    "def just_even(*args):\n",
    "    my_list = []\n",
    "    for item in args:\n",
    "        if item%2 == 0:\n",
    "            my_list.append(item)\n",
    "    return my_list"
   ]
  },
  {
   "cell_type": "code",
   "execution_count": 20,
   "id": "f16556f0",
   "metadata": {},
   "outputs": [
    {
     "data": {
      "text/plain": [
       "[12, 14]"
      ]
     },
     "execution_count": 20,
     "metadata": {},
     "output_type": "execute_result"
    }
   ],
   "source": [
    "just_even(11, 12, 13, 14, 15)"
   ]
  },
  {
   "cell_type": "markdown",
   "id": "7a6b3fe5",
   "metadata": {},
   "source": [
    "Define a function called myfunc that takes in a string, and returns a matching string where every even letter is uppercase, and every odd letter is lowercase. Assume that the incoming string only contains letters, and don't worry about numbers, spaces or punctuation. The output string can start with either an uppercase or lowercase letter, so long as letters alternate throughout the string."
   ]
  },
  {
   "cell_type": "code",
   "execution_count": 21,
   "id": "ccd24780",
   "metadata": {},
   "outputs": [],
   "source": [
    "def myfunc(string):\n",
    "    outputString = ''\n",
    "    for i in range(0,len(string)):\n",
    "        if i%2 == 0:\n",
    "            outputString = outputString + string[i].lower()\n",
    "        else:\n",
    "            outputString = outputString + string[i].upper()\n",
    "    return outputString"
   ]
  },
  {
   "cell_type": "code",
   "execution_count": 22,
   "id": "b173e09b",
   "metadata": {},
   "outputs": [
    {
     "data": {
      "text/plain": [
       "'aShIsH'"
      ]
     },
     "execution_count": 22,
     "metadata": {},
     "output_type": "execute_result"
    }
   ],
   "source": [
    "myfunc('Ashish')"
   ]
  },
  {
   "cell_type": "markdown",
   "id": "154ab5ac",
   "metadata": {},
   "source": [
    "### Unpacking Arguments"
   ]
  },
  {
   "cell_type": "code",
   "execution_count": 23,
   "id": "48aaa025",
   "metadata": {},
   "outputs": [],
   "source": [
    "def foo(a, b, c, d):\n",
    "    return a + b + c + d"
   ]
  },
  {
   "cell_type": "code",
   "execution_count": 24,
   "id": "08992953",
   "metadata": {},
   "outputs": [
    {
     "data": {
      "text/plain": [
       "10"
      ]
     },
     "execution_count": 24,
     "metadata": {},
     "output_type": "execute_result"
    }
   ],
   "source": [
    "some_list = [1, 2, 3, 4]\n",
    "foo(*some_list)"
   ]
  },
  {
   "cell_type": "code",
   "execution_count": 25,
   "id": "04efa72b",
   "metadata": {},
   "outputs": [
    {
     "data": {
      "text/plain": [
       "10"
      ]
     },
     "execution_count": 25,
     "metadata": {},
     "output_type": "execute_result"
    }
   ],
   "source": [
    "some_tuple = (1, 2, 3, 4)\n",
    "foo(*some_tuple)"
   ]
  },
  {
   "cell_type": "code",
   "execution_count": 26,
   "id": "63a9248e",
   "metadata": {},
   "outputs": [
    {
     "data": {
      "text/plain": [
       "10"
      ]
     },
     "execution_count": 26,
     "metadata": {},
     "output_type": "execute_result"
    }
   ],
   "source": [
    "some_dict = {'a':1, 'b':2, 'c':3, 'd':4}\n",
    "foo(**some_dict)"
   ]
  },
  {
   "cell_type": "markdown",
   "id": "dd70d102",
   "metadata": {},
   "source": [
    "### Local versus Global Variables"
   ]
  },
  {
   "cell_type": "code",
   "execution_count": 27,
   "id": "2e5f6091",
   "metadata": {},
   "outputs": [
    {
     "name": "stdout",
     "output_type": "stream",
     "text": [
      "0\n",
      "2\n"
     ]
    }
   ],
   "source": [
    "# Local Variable\n",
    "outside_variable = 0\n",
    "print(outside_variable)\n",
    "\n",
    "def myfunction():\n",
    "    local_variable = outside_variable\n",
    "    local_variable = local_variable + 2\n",
    "    print(local_variable)\n",
    "    \n",
    "myfunction()"
   ]
  },
  {
   "cell_type": "code",
   "execution_count": 28,
   "id": "ccd8c99a",
   "metadata": {},
   "outputs": [
    {
     "name": "stdout",
     "output_type": "stream",
     "text": [
      "0\n",
      "2\n"
     ]
    }
   ],
   "source": [
    "# Global Variable\n",
    "outside_variable = 0\n",
    "print(outside_variable)\n",
    "\n",
    "def myfunction():\n",
    "    global outside_variable\n",
    "    outside_variable = outside_variable + 2\n",
    "    print(outside_variable)\n",
    "    \n",
    "myfunction()"
   ]
  },
  {
   "cell_type": "code",
   "execution_count": 39,
   "id": "466b4f81",
   "metadata": {},
   "outputs": [
    {
     "name": "stdout",
     "output_type": "stream",
     "text": [
      "[1, 2, 3]\n",
      "2556404600512\n",
      "2556404600512\n",
      "[100, 2, 3]\n"
     ]
    }
   ],
   "source": [
    "my_list = [1, 2, 3]\n",
    "print(my_list)\n",
    "print(id(my_list))\n",
    "\n",
    "def foo(a_list):\n",
    "    a_list[0]= 100\n",
    "    print(id(a_list))\n",
    "    # id of list has not changed\n",
    "\n",
    "foo(my_list)\n",
    "print(my_list)"
   ]
  },
  {
   "cell_type": "code",
   "execution_count": 40,
   "id": "181b3dbf",
   "metadata": {},
   "outputs": [
    {
     "name": "stdout",
     "output_type": "stream",
     "text": [
      "[1, 2, 3]\n",
      "2556404610176\n",
      "2556404600512\n",
      "[1, 2, 3]\n"
     ]
    }
   ],
   "source": [
    "my_list = [1, 2, 3]\n",
    "\n",
    "print(my_list)\n",
    "print(id(my_list))\n",
    "\n",
    "def foo(a_list):\n",
    "    a_list = [100, 1, 2]\n",
    "    print(id(a_list))\n",
    "    # id of list has changed\n",
    "\n",
    "foo(my_list)\n",
    "print(my_list)\n"
   ]
  },
  {
   "cell_type": "code",
   "execution_count": null,
   "id": "49e29772",
   "metadata": {},
   "outputs": [],
   "source": []
  }
 ],
 "metadata": {
  "kernelspec": {
   "display_name": "Python 3 (ipykernel)",
   "language": "python",
   "name": "python3"
  },
  "language_info": {
   "codemirror_mode": {
    "name": "ipython",
    "version": 3
   },
   "file_extension": ".py",
   "mimetype": "text/x-python",
   "name": "python",
   "nbconvert_exporter": "python",
   "pygments_lexer": "ipython3",
   "version": "3.9.12"
  }
 },
 "nbformat": 4,
 "nbformat_minor": 5
}
