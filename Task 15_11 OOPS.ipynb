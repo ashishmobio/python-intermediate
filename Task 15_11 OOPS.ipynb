{
 "cells": [
  {
   "cell_type": "markdown",
   "id": "fec28d82",
   "metadata": {},
   "source": [
    "### OOP 1"
   ]
  },
  {
   "cell_type": "code",
   "execution_count": 14,
   "id": "990cf627",
   "metadata": {},
   "outputs": [
    {
     "name": "stdout",
     "output_type": "stream",
     "text": [
      "<class 'NoneType'>\n",
      "<class 'bool'>\n",
      "<class 'int'>\n",
      "<class 'float'>\n",
      "<class 'str'>\n",
      "<class 'list'>\n",
      "<class 'tuple'>\n",
      "<class 'dict'>\n"
     ]
    }
   ],
   "source": [
    "print(type(None))\n",
    "print(type(True))\n",
    "print(type(5))\n",
    "print(type(8.8))\n",
    "print(type('Hello'))\n",
    "print(type([]))\n",
    "print(type(()))\n",
    "print(type({}))"
   ]
  },
  {
   "cell_type": "markdown",
   "id": "dfbb3c2f",
   "metadata": {},
   "source": [
    "Object is an instance of class. Object can have attributes and methods, a bunch of data and functionality."
   ]
  },
  {
   "cell_type": "markdown",
   "id": "63603492",
   "metadata": {},
   "source": [
    "Article:\n",
    "\n",
    "https://en.wikipedia.org/wiki/History_of_programming_languages"
   ]
  },
  {
   "cell_type": "code",
   "execution_count": 2,
   "id": "698a5698",
   "metadata": {},
   "outputs": [],
   "source": [
    "# Class - Blue print is stored in memory.\n",
    "class BigObject:\n",
    "    pass"
   ]
  },
  {
   "cell_type": "code",
   "execution_count": 3,
   "id": "2f04dbbd",
   "metadata": {},
   "outputs": [
    {
     "data": {
      "text/plain": [
       "type"
      ]
     },
     "execution_count": 3,
     "metadata": {},
     "output_type": "execute_result"
    }
   ],
   "source": [
    "type(BigObject)"
   ]
  },
  {
   "cell_type": "code",
   "execution_count": 9,
   "id": "2fc90f79",
   "metadata": {},
   "outputs": [],
   "source": [
    "# Instatiate Object\n",
    "obj1 = BigObject()\n",
    "obj2 = BigObject()\n",
    "obj3 = BigObject()"
   ]
  },
  {
   "cell_type": "code",
   "execution_count": 10,
   "id": "016acbf5",
   "metadata": {},
   "outputs": [
    {
     "name": "stdout",
     "output_type": "stream",
     "text": [
      "<__main__.BigObject object at 0x00000244D1214A30>\n",
      "<__main__.BigObject object at 0x00000244D2553970>\n",
      "<__main__.BigObject object at 0x00000244D22F0550>\n"
     ]
    }
   ],
   "source": [
    "print(obj1)\n",
    "print(obj2)\n",
    "print(obj3)"
   ]
  },
  {
   "cell_type": "markdown",
   "id": "0460eb29",
   "metadata": {},
   "source": [
    "The basic terminology of class and object.\n",
    "\n",
    "<img src=\"classandobject.png\" width=600 height=600 />"
   ]
  },
  {
   "cell_type": "code",
   "execution_count": null,
   "id": "f4835f91",
   "metadata": {},
   "outputs": [],
   "source": []
  },
  {
   "cell_type": "code",
   "execution_count": null,
   "id": "f7ece839",
   "metadata": {},
   "outputs": [],
   "source": []
  }
 ],
 "metadata": {
  "kernelspec": {
   "display_name": "Python 3 (ipykernel)",
   "language": "python",
   "name": "python3"
  },
  "language_info": {
   "codemirror_mode": {
    "name": "ipython",
    "version": 3
   },
   "file_extension": ".py",
   "mimetype": "text/x-python",
   "name": "python",
   "nbconvert_exporter": "python",
   "pygments_lexer": "ipython3",
   "version": "3.9.12"
  }
 },
 "nbformat": 4,
 "nbformat_minor": 5
}
