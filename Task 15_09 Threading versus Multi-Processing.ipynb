{
 "cells": [
  {
   "cell_type": "markdown",
   "id": "84095411",
   "metadata": {},
   "source": [
    "### Multithreading\n",
    "\n",
    "https://www.youtube.com/watch?v=PJ4t2U15ACo&list=PLeo1K3hjS3uub3PRhdoCTY8BxMKSW7RjN&index=1"
   ]
  },
  {
   "cell_type": "markdown",
   "id": "4450cf5f",
   "metadata": {},
   "source": [
    "<img src=\"multitasking.png\" width=600 height=600 />\n",
    "\n",
    "The vertical line can be thought as a timeline. The lady is handling three threads."
   ]
  },
  {
   "cell_type": "code",
   "execution_count": 1,
   "id": "874a271e",
   "metadata": {},
   "outputs": [
    {
     "name": "stdout",
     "output_type": "stream",
     "text": [
      "Calculate the square of numbers.\n",
      "Square:  4\n",
      "Square:  9\n",
      "Square:  64\n",
      "Square:  81\n",
      "Calculate the cube of numbers.\n",
      "Cube:  8\n",
      "Cube:  27\n",
      "Cube:  512\n",
      "Cube:  729\n",
      "Time taken:  1.6555938720703125\n",
      "Done with squaring and cubing.\n"
     ]
    }
   ],
   "source": [
    "import time\n",
    "\n",
    "def calc_square(numbers):\n",
    "    print(\"Calculate the square of numbers.\")\n",
    "    for n in numbers:\n",
    "        time.sleep(0.2)\n",
    "        print(\"Square: \", n*n)\n",
    "\n",
    "def calc_cube(numbers):\n",
    "    print(\"Calculate the cube of numbers.\")\n",
    "    for n in numbers:\n",
    "        time.sleep(0.2)\n",
    "        print(\"Cube: \", n*n*n)\n",
    "        \n",
    "arr = [2, 3, 8, 9]\n",
    "t = time.time()\n",
    "\n",
    "calc_square(arr)\n",
    "calc_cube(arr)\n",
    "\n",
    "print(\"Time taken: \", time.time() - t)\n",
    "print(\"Done with squaring and cubing.\")"
   ]
  },
  {
   "cell_type": "code",
   "execution_count": 2,
   "id": "15999eba",
   "metadata": {},
   "outputs": [
    {
     "name": "stdout",
     "output_type": "stream",
     "text": [
      "Calculate the square of numbers.\n",
      "Calculate the cube of numbers.\n",
      "Square: Cube:  8\n",
      " 4\n",
      "Square:  9\n",
      "Cube:  27\n",
      "Square: Cube:  64\n",
      " 512\n",
      "Cube: Square:  729\n",
      " 81\n",
      "Time taken:  0.8322076797485352\n",
      "Done with squaring and cubing.\n"
     ]
    }
   ],
   "source": [
    "import time\n",
    "import threading\n",
    "\n",
    "def calc_square(numbers):\n",
    "    print(\"Calculate the square of numbers.\")\n",
    "    for n in numbers:\n",
    "        time.sleep(0.2)\n",
    "        print(\"Square: \", n*n)\n",
    "\n",
    "def calc_cube(numbers):\n",
    "    print(\"Calculate the cube of numbers.\")\n",
    "    for n in numbers:\n",
    "        time.sleep(0.2)\n",
    "        print(\"Cube: \", n*n*n)\n",
    "\n",
    "if __name__ == '__main__':\n",
    "    arr = [2, 3, 8, 9]\n",
    "    t = time.time()\n",
    "\n",
    "    # Target can be thought as task to be performed.\n",
    "    thread1 = threading.Thread(target = calc_square, args = (arr, ))\n",
    "    thread2 = threading.Thread(target = calc_cube, args = (arr, ))\n",
    "\n",
    "    ## Start the threads 1 and 2 in parallel.\n",
    "    thread1.start()\n",
    "    thread2.start()\n",
    "\n",
    "    ## Threads 1 (squaring) and 2 (cubing) are done and joined backs to main thread.\n",
    "    thread1.join()\n",
    "    thread2.join()\n",
    "\n",
    "    print(\"Time taken: \", time.time() - t)\n",
    "    print(\"Done with squaring and cubing.\")"
   ]
  },
  {
   "cell_type": "markdown",
   "id": "fa7db63c",
   "metadata": {},
   "source": [
    "<img src=\"squaringandcubing.png\" width=600 height=600 />"
   ]
  },
  {
   "cell_type": "markdown",
   "id": "ad64560f",
   "metadata": {},
   "source": [
    "### Multiprocessing\n",
    "\n",
    "https://www.youtube.com/watch?v=Lu5LrKh1Zno&list=PLeo1K3hjS3uub3PRhdoCTY8BxMKSW7RjN&index=3\n",
    "https://stackoverflow.com/questions/68005034/multiprocessing-in-python-doesnt-print-any-statements"
   ]
  },
  {
   "cell_type": "code",
   "execution_count": 8,
   "id": "333eefe8",
   "metadata": {},
   "outputs": [
    {
     "name": "stdout",
     "output_type": "stream",
     "text": [
      "Time taken:  0.2419888973236084\n",
      "Done with squaring and cubing.\n"
     ]
    }
   ],
   "source": [
    "import time\n",
    "import multiprocessing\n",
    "\n",
    "result = 0\n",
    "def calc_square(numbers):\n",
    "    print(\"Calculate the square of numbers.\")\n",
    "    global result\n",
    "    for n in numbers:\n",
    "        time.sleep(0.2)\n",
    "        result = n*n;\n",
    "        print(\"Square: \", result)\n",
    "\n",
    "result = 0\n",
    "def calc_cube(numbers):\n",
    "    print(\"Calculate the cube of numbers.\")\n",
    "    global result\n",
    "    for n in numbers:\n",
    "        time.sleep(0.2)\n",
    "        result = n*n*n;\n",
    "        print(\"Cube: \", result)\n",
    "        \n",
    "        \n",
    "arr = [2, 3, 8, 9]\n",
    "t = time.time()\n",
    "\n",
    "# Target can be thought as task to be performed.\n",
    "process1 = multiprocessing.Process(target = calc_square, args = (arr, ))\n",
    "process2 = multiprocessing.Process(target = calc_cube, args = (arr, ))\n",
    "\n",
    "## Start the process 1 and 2 in parallel.\n",
    "process1.start()\n",
    "process2.start()\n",
    "\n",
    "## Process 1 (squaring) and Process 2 (cubing) are done and joined backs to main Process.\n",
    "process1.join()\n",
    "process2.join()\n",
    "\n",
    "print(\"Time taken: \", time.time() - t)\n",
    "print(\"Done with squaring and cubing.\")   "
   ]
  },
  {
   "cell_type": "markdown",
   "id": "f1937b75",
   "metadata": {},
   "source": [
    "### Threading versus Multi-Processing"
   ]
  },
  {
   "cell_type": "markdown",
   "id": "65a422ac",
   "metadata": {},
   "source": [
    "<img src=\"differences1.png\" width=600 height=600 />\n"
   ]
  },
  {
   "cell_type": "markdown",
   "id": "18d9f6ce",
   "metadata": {},
   "source": [
    "All processes have a different PID.\n",
    "<img src=\"differences2.png\" width=600 height=600 />\n"
   ]
  },
  {
   "cell_type": "markdown",
   "id": "3ae989e3",
   "metadata": {},
   "source": [
    "Multiple threads basically live within a same process. Threads have their own instruction sets, but they share address space.\n",
    "<img src=\"differences3.png\" width=600 height=600 />\n"
   ]
  },
  {
   "cell_type": "markdown",
   "id": "824800fe",
   "metadata": {},
   "source": [
    "All processes have their own address space. Processes can communicate to each other using interprocess communication techniques. \n",
    "<img src=\"differences4.png\" width=600 height=600 />"
   ]
  },
  {
   "cell_type": "markdown",
   "id": "a09cae55",
   "metadata": {},
   "source": [
    "Threads are light weight versus processes are heavy weight. However, different programs are different processes return by different companies, and they have to run seperately.\n",
    "<img src=\"differences5.png\" width=600 height=600 />"
   ]
  },
  {
   "cell_type": "markdown",
   "id": "3bf6f2b2",
   "metadata": {},
   "source": [
    "<img src=\"differences6.png\" width=600 height=600 />"
   ]
  },
  {
   "cell_type": "markdown",
   "id": "6d65cb0d",
   "metadata": {},
   "source": [
    "<img src=\"multiprocessingqueue_queue_modules.png\" width=600 height=600 />"
   ]
  },
  {
   "cell_type": "code",
   "execution_count": null,
   "id": "24e9874a",
   "metadata": {},
   "outputs": [],
   "source": []
  }
 ],
 "metadata": {
  "kernelspec": {
   "display_name": "Python 3 (ipykernel)",
   "language": "python",
   "name": "python3"
  },
  "language_info": {
   "codemirror_mode": {
    "name": "ipython",
    "version": 3
   },
   "file_extension": ".py",
   "mimetype": "text/x-python",
   "name": "python",
   "nbconvert_exporter": "python",
   "pygments_lexer": "ipython3",
   "version": "3.9.12"
  }
 },
 "nbformat": 4,
 "nbformat_minor": 5
}
