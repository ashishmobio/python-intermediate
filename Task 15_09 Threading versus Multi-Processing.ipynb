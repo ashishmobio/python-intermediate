{
 "cells": [
  {
   "cell_type": "markdown",
   "id": "84095411",
   "metadata": {},
   "source": [
    "### Multithreading\n",
    "\n",
    "1. https://www.youtube.com/watch?v=PJ4t2U15ACo&list=PLeo1K3hjS3uub3PRhdoCTY8BxMKSW7RjN&index=1"
   ]
  },
  {
   "cell_type": "markdown",
   "id": "3f1525f8",
   "metadata": {},
   "source": [
    "<img src=\"multitasking.png\" width=600 height=600 />\n"
   ]
  },
  {
   "cell_type": "code",
   "execution_count": null,
   "id": "f96709f7",
   "metadata": {},
   "outputs": [],
   "source": []
  }
 ],
 "metadata": {
  "kernelspec": {
   "display_name": "Python 3 (ipykernel)",
   "language": "python",
   "name": "python3"
  },
  "language_info": {
   "codemirror_mode": {
    "name": "ipython",
    "version": 3
   },
   "file_extension": ".py",
   "mimetype": "text/x-python",
   "name": "python",
   "nbconvert_exporter": "python",
   "pygments_lexer": "ipython3",
   "version": "3.9.12"
  }
 },
 "nbformat": 4,
 "nbformat_minor": 5
}
