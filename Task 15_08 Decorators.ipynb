{
 "cells": [
  {
   "cell_type": "markdown",
   "id": "4714b205",
   "metadata": {},
   "source": [
    "## Decorators\n",
    "Decorators can be thought of as functions which modify the functionality of another function. They help to make your code shorter and more \"Pythonic\".\n",
    "\n",
    "To understand decorators we will slowly build up from functions.\n",
    "\n",
    "\n",
    "```\n",
    "@decorator\n",
    " def function():\n",
    "    ...\n",
    "\n",
    "is equivalent to: function = decorator(function)\n",
    "\n",
    "\n",
    "```"
   ]
  },
  {
   "cell_type": "markdown",
   "id": "9cd5dbd8",
   "metadata": {},
   "source": [
    "### Demonstration"
   ]
  },
  {
   "cell_type": "code",
   "execution_count": 1,
   "id": "10344503",
   "metadata": {},
   "outputs": [],
   "source": [
    "## defining a function - func()\n",
    "def func():\n",
    "    return 1"
   ]
  },
  {
   "cell_type": "code",
   "execution_count": 2,
   "id": "faa10c9c",
   "metadata": {},
   "outputs": [
    {
     "data": {
      "text/plain": [
       "1"
      ]
     },
     "execution_count": 2,
     "metadata": {},
     "output_type": "execute_result"
    }
   ],
   "source": [
    "func()"
   ]
  },
  {
   "cell_type": "code",
   "execution_count": 3,
   "id": "d88e08ef",
   "metadata": {},
   "outputs": [
    {
     "data": {
      "text/plain": [
       "<function __main__.func()>"
      ]
     },
     "execution_count": 3,
     "metadata": {},
     "output_type": "execute_result"
    }
   ],
   "source": [
    "func"
   ]
  },
  {
   "cell_type": "code",
   "execution_count": 4,
   "id": "dbaf355d",
   "metadata": {},
   "outputs": [],
   "source": [
    "## defining a function - hello()\n",
    "def hello():\n",
    "    return \"Hello!\""
   ]
  },
  {
   "cell_type": "code",
   "execution_count": 5,
   "id": "9f0d62fe",
   "metadata": {},
   "outputs": [
    {
     "data": {
      "text/plain": [
       "'Hello!'"
      ]
     },
     "execution_count": 5,
     "metadata": {},
     "output_type": "execute_result"
    }
   ],
   "source": [
    "hello()"
   ]
  },
  {
   "cell_type": "code",
   "execution_count": 6,
   "id": "9236d221",
   "metadata": {},
   "outputs": [
    {
     "data": {
      "text/plain": [
       "<function __main__.hello()>"
      ]
     },
     "execution_count": 6,
     "metadata": {},
     "output_type": "execute_result"
    }
   ],
   "source": [
    "hello"
   ]
  },
  {
   "cell_type": "code",
   "execution_count": 7,
   "id": "8ef7e5d7",
   "metadata": {},
   "outputs": [],
   "source": [
    "## making a copy of the hello function\n",
    "greet = hello"
   ]
  },
  {
   "cell_type": "code",
   "execution_count": 8,
   "id": "aef4db8b",
   "metadata": {},
   "outputs": [
    {
     "data": {
      "text/plain": [
       "'Hello!'"
      ]
     },
     "execution_count": 8,
     "metadata": {},
     "output_type": "execute_result"
    }
   ],
   "source": [
    "greet()"
   ]
  },
  {
   "cell_type": "code",
   "execution_count": 9,
   "id": "4fd64d59",
   "metadata": {},
   "outputs": [],
   "source": [
    "del hello"
   ]
  },
  {
   "cell_type": "code",
   "execution_count": 10,
   "id": "0452d083",
   "metadata": {},
   "outputs": [
    {
     "data": {
      "text/plain": [
       "'Hello!'"
      ]
     },
     "execution_count": 10,
     "metadata": {},
     "output_type": "execute_result"
    }
   ],
   "source": [
    "greet()"
   ]
  },
  {
   "cell_type": "code",
   "execution_count": 11,
   "id": "f09b0396",
   "metadata": {},
   "outputs": [],
   "source": [
    "## create hello function with greet and welcome functions nested inside them\n",
    "def hello(name = 'Ashish'):\n",
    "    print('The hello() function has a been executed.')\n",
    "    \n",
    "    def greet():\n",
    "        return '\\t This is the greet() function inside the function hello().'\n",
    "    \n",
    "    def welcome():\n",
    "        return '\\t This is the welcome() function inside the function hello().'\n",
    "        \n",
    "    print(greet())\n",
    "    print(welcome())\n",
    "    print('This is the end of the hello() function.')\n",
    "\n",
    "# Note: The scope of greet and welcome function is limited to hello function."
   ]
  },
  {
   "cell_type": "code",
   "execution_count": 12,
   "id": "42731323",
   "metadata": {},
   "outputs": [
    {
     "name": "stdout",
     "output_type": "stream",
     "text": [
      "The hello() function has a been executed.\n",
      "\t This is the greet() function inside the function hello().\n",
      "\t This is the welcome() function inside the function hello().\n",
      "This is the end of the hello() function.\n"
     ]
    }
   ],
   "source": [
    "hello()"
   ]
  },
  {
   "cell_type": "markdown",
   "id": "89b49979",
   "metadata": {},
   "source": [
    "Note: Calling the functions greet() and welcome(),\n",
    "in the following way will throw errors, due to their limited scope.\n",
    "```\n",
    "greet()\n",
    "welcome()\n",
    "```"
   ]
  },
  {
   "cell_type": "code",
   "execution_count": 13,
   "id": "7e261cc5",
   "metadata": {},
   "outputs": [],
   "source": [
    "## create hello function with greet and welcome functions and return them.\n",
    "\n",
    "def hello(name = 'Ashish'):\n",
    "    print('The hello() function has a been executed.')\n",
    "    \n",
    "    def greet():\n",
    "        return '\\t This is the greet() function inside the function hello().'\n",
    "    \n",
    "    def welcome():\n",
    "        return '\\t This is the welcome() function inside the function hello().'\n",
    "        \n",
    "    print('We are returning the functions.')\n",
    "    \n",
    "    if name == 'Ashish':\n",
    "        return greet\n",
    "    else:\n",
    "        return welcome\n",
    "    \n",
    "# Note: The scope of greet and welcome function is limited to hello function."
   ]
  },
  {
   "cell_type": "code",
   "execution_count": 14,
   "id": "cfc984c8",
   "metadata": {},
   "outputs": [
    {
     "name": "stdout",
     "output_type": "stream",
     "text": [
      "The hello() function has a been executed.\n",
      "We are returning the functions.\n",
      "-------------------------------------------------\n",
      "\t This is the greet() function inside the function hello().\n",
      "-------------------------------------------------\n",
      "<function hello.<locals>.greet at 0x000001A7CAA4C8B0>\n"
     ]
    }
   ],
   "source": [
    "my_new_function = hello(\"Ashish\")\n",
    "print(\"-------------------------------------------------\")\n",
    "print(my_new_function())\n",
    "print(\"-------------------------------------------------\")\n",
    "print(my_new_function)"
   ]
  },
  {
   "cell_type": "code",
   "execution_count": 15,
   "id": "78c36eb0",
   "metadata": {},
   "outputs": [
    {
     "name": "stdout",
     "output_type": "stream",
     "text": [
      "The hello() function has a been executed.\n",
      "We are returning the functions.\n",
      "-------------------------------------------------\n",
      "\t This is the welcome() function inside the function hello().\n",
      "-------------------------------------------------\n",
      "<function hello.<locals>.welcome at 0x000001A7CAA4C820>\n"
     ]
    }
   ],
   "source": [
    "my_new_function = hello(\"Venkatesh\")\n",
    "print(\"-------------------------------------------------\")\n",
    "print(my_new_function())\n",
    "print(\"-------------------------------------------------\")\n",
    "print(my_new_function)"
   ]
  },
  {
   "cell_type": "code",
   "execution_count": 16,
   "id": "9f5d7dae",
   "metadata": {},
   "outputs": [],
   "source": [
    "## Just one more example to grasp the concept of returning function from within a function.\n",
    "def cool():\n",
    "    def super_cool():\n",
    "        return 'This is super cool.'\n",
    "    \n",
    "    return super_cool"
   ]
  },
  {
   "cell_type": "code",
   "execution_count": 17,
   "id": "3690c3e8",
   "metadata": {},
   "outputs": [
    {
     "name": "stdout",
     "output_type": "stream",
     "text": [
      "-------------------------------------------------\n",
      "This is super cool.\n",
      "-------------------------------------------------\n",
      "<function cool.<locals>.super_cool at 0x000001A7CAA4F0D0>\n"
     ]
    }
   ],
   "source": [
    "some_function = cool()\n",
    "print(\"-------------------------------------------------\")\n",
    "print(some_function())\n",
    "print(\"-------------------------------------------------\")\n",
    "print(some_function)"
   ]
  },
  {
   "cell_type": "code",
   "execution_count": 18,
   "id": "19eb147f",
   "metadata": {},
   "outputs": [],
   "source": [
    "## Passing a function as an argument.\n",
    "def hello():\n",
    "    return 'Hello! How are you doing?'\n",
    "    \n",
    "def some(inside_function):\n",
    "    print(\"This is some function.\")\n",
    "    print(inside_function())"
   ]
  },
  {
   "cell_type": "code",
   "execution_count": 19,
   "id": "6041e9c7",
   "metadata": {},
   "outputs": [
    {
     "name": "stdout",
     "output_type": "stream",
     "text": [
      "This is some function.\n",
      "Hello! How are you doing?\n"
     ]
    }
   ],
   "source": [
    "some(hello)"
   ]
  },
  {
   "cell_type": "code",
   "execution_count": 20,
   "id": "5aac9566",
   "metadata": {},
   "outputs": [
    {
     "data": {
      "text/plain": [
       "'Hello! How are you doing?'"
      ]
     },
     "execution_count": 20,
     "metadata": {},
     "output_type": "execute_result"
    }
   ],
   "source": [
    "hello()"
   ]
  },
  {
   "cell_type": "code",
   "execution_count": 21,
   "id": "4de278ab",
   "metadata": {},
   "outputs": [],
   "source": [
    "## Creating a new_decorator function.\n",
    "def new_decorator(original_function):\n",
    "    def wrap_function():\n",
    "        print('Some extra code before the original function.')\n",
    "        original_function()\n",
    "        print('Some extra code after the original function.')\n",
    "        \n",
    "    return wrap_function"
   ]
  },
  {
   "cell_type": "code",
   "execution_count": 22,
   "id": "559a4361",
   "metadata": {},
   "outputs": [],
   "source": [
    "def function_needs_decorator():\n",
    "    print(\"I want to be decorated.\")"
   ]
  },
  {
   "cell_type": "code",
   "execution_count": 23,
   "id": "f4218bd6",
   "metadata": {},
   "outputs": [
    {
     "name": "stdout",
     "output_type": "stream",
     "text": [
      "I want to be decorated.\n"
     ]
    }
   ],
   "source": [
    "function_needs_decorator()"
   ]
  },
  {
   "cell_type": "code",
   "execution_count": 24,
   "id": "59c79581",
   "metadata": {},
   "outputs": [],
   "source": [
    "function_decorated = new_decorator(function_needs_decorator)"
   ]
  },
  {
   "cell_type": "code",
   "execution_count": 25,
   "id": "941bc9d8",
   "metadata": {},
   "outputs": [
    {
     "name": "stdout",
     "output_type": "stream",
     "text": [
      "Some extra code before the original function.\n",
      "I want to be decorated.\n",
      "Some extra code after the original function.\n"
     ]
    }
   ],
   "source": [
    "function_decorated()"
   ]
  },
  {
   "cell_type": "code",
   "execution_count": 26,
   "id": "77ffdd9f",
   "metadata": {},
   "outputs": [],
   "source": [
    "## Demonstrating the decorator\n",
    "@ new_decorator\n",
    "def function_needs_decorator():\n",
    "    print(\"I want to be decorated.\")"
   ]
  },
  {
   "cell_type": "code",
   "execution_count": 27,
   "id": "3b627039",
   "metadata": {},
   "outputs": [
    {
     "name": "stdout",
     "output_type": "stream",
     "text": [
      "Some extra code before the original function.\n",
      "I want to be decorated.\n",
      "Some extra code after the original function.\n"
     ]
    }
   ],
   "source": [
    "function_needs_decorator()"
   ]
  },
  {
   "cell_type": "code",
   "execution_count": 28,
   "id": "5149efd1",
   "metadata": {},
   "outputs": [],
   "source": [
    "# @ new_decorator\n",
    "def function_needs_decorator():\n",
    "    print(\"I want to be decorated.\")"
   ]
  },
  {
   "cell_type": "code",
   "execution_count": 29,
   "id": "326201da",
   "metadata": {},
   "outputs": [
    {
     "name": "stdout",
     "output_type": "stream",
     "text": [
      "I want to be decorated.\n"
     ]
    }
   ],
   "source": [
    "function_needs_decorator()"
   ]
  },
  {
   "cell_type": "markdown",
   "id": "97d482ce",
   "metadata": {},
   "source": [
    "Note: The above demonstration for the purpose of understanding. In reality, decorators are used with web frameworks(Jango and Flask) and libraries.\n",
    "\n",
    "A framework is a type of software library that provides generic functionality which can be extended by the programmer to build applications. Flask and Django are good examples of frameworks intended for web development.\n",
    "\n",
    "A framework is distinguished from a simple library or API. An API is a piece of software that a developer can use in his or her application. A framework is more encompassing: your entire application is structured around the framework (i.e. it provides the framework around which you build your software).\n"
   ]
  },
  {
   "cell_type": "markdown",
   "id": "876d76bd",
   "metadata": {},
   "source": [
    "### Example 01"
   ]
  },
  {
   "cell_type": "code",
   "execution_count": 30,
   "id": "a4ed2f00",
   "metadata": {},
   "outputs": [
    {
     "name": "stdout",
     "output_type": "stream",
     "text": [
      "Hi\n",
      "Bye\n"
     ]
    }
   ],
   "source": [
    "def outer_function(message):\n",
    "    \n",
    "    def inner_function():\n",
    "        print(message) \n",
    "        # message is a free variable in the inside_function\n",
    "    return inner_function\n",
    "\n",
    "hi_function = outer_function('Hi')\n",
    "bye_function = outer_function('Bye')\n",
    "\n",
    "hi_function()\n",
    "bye_function()"
   ]
  },
  {
   "cell_type": "code",
   "execution_count": 31,
   "id": "f62745bc",
   "metadata": {},
   "outputs": [
    {
     "name": "stdout",
     "output_type": "stream",
     "text": [
      "Hi\n",
      "Bye\n"
     ]
    }
   ],
   "source": [
    "def decorator_function(message):\n",
    "    def wrapper_function():\n",
    "        print(message)\n",
    "    return wrapper_function\n",
    "\n",
    "hi_function = decorator_function('Hi')\n",
    "bye_function = decorator_function('Bye')\n",
    "\n",
    "hi_function()\n",
    "bye_function()"
   ]
  },
  {
   "cell_type": "code",
   "execution_count": 32,
   "id": "67963965",
   "metadata": {},
   "outputs": [
    {
     "name": "stdout",
     "output_type": "stream",
     "text": [
      "The display function is executed.\n"
     ]
    }
   ],
   "source": [
    "# Decorators (wrapper function has no code)\n",
    "def decorator_function(original_function):\n",
    "    def wrapper_function():\n",
    "        return original_function()\n",
    "    return wrapper_function\n",
    "\n",
    "def display():\n",
    "    print('The display function is executed.')\n",
    "    \n",
    "decorated_display = decorator_function(display)\n",
    "decorated_display()"
   ]
  },
  {
   "cell_type": "code",
   "execution_count": 33,
   "id": "cbfd6bd4",
   "metadata": {},
   "outputs": [
    {
     "name": "stdout",
     "output_type": "stream",
     "text": [
      "The wrapper code before the execution of display function.\n",
      "The display function is executed.\n"
     ]
    }
   ],
   "source": [
    "# Decorators (wrapper function has code)\n",
    "def decorator_function(original_function):\n",
    "    def wrapper_function():\n",
    "        print(f\"The wrapper code before the execution of {original_function.__name__} function.\")\n",
    "        return original_function()\n",
    "    return wrapper_function\n",
    "\n",
    "def display():\n",
    "    print('The display function is executed.')\n",
    "    \n",
    "decorated_display = decorator_function(display)\n",
    "decorated_display()"
   ]
  },
  {
   "cell_type": "code",
   "execution_count": 34,
   "id": "3339ec62",
   "metadata": {},
   "outputs": [
    {
     "name": "stdout",
     "output_type": "stream",
     "text": [
      "The wrapper code before the execution of display function.\n",
      "The display function is executed.\n"
     ]
    }
   ],
   "source": [
    "@decorator_function\n",
    "def display():\n",
    "    print('The display function is executed.')\n",
    "    \n",
    "display()\n",
    "## Note: This is basically same as \n",
    "## decorated_display = decorator_function(display)\n",
    "## decorated_display()"
   ]
  },
  {
   "cell_type": "code",
   "execution_count": 35,
   "id": "b3cf22e1",
   "metadata": {},
   "outputs": [
    {
     "name": "stdout",
     "output_type": "stream",
     "text": [
      "The display function is executed.\n"
     ]
    }
   ],
   "source": [
    "# @decorator_function\n",
    "def display():\n",
    "    print('The display function is executed.')\n",
    "    \n",
    "display()"
   ]
  },
  {
   "cell_type": "markdown",
   "id": "2fb2e490",
   "metadata": {},
   "source": [
    "### Example 02"
   ]
  },
  {
   "cell_type": "code",
   "execution_count": 36,
   "id": "766d8b1f",
   "metadata": {},
   "outputs": [],
   "source": [
    "class decorator_class(object):\n",
    "\n",
    "    def __init__(self, original_function):\n",
    "        self.original_function = original_function\n",
    "\n",
    "    def __call__(self, *args, **kwargs):\n",
    "        print('call method before {}'.format(self.original_function.__name__))\n",
    "        return self.original_function(*args, **kwargs)"
   ]
  },
  {
   "cell_type": "code",
   "execution_count": 37,
   "id": "00d6a281",
   "metadata": {},
   "outputs": [
    {
     "name": "stdout",
     "output_type": "stream",
     "text": [
      "call method before display_info\n",
      "Employee name is John and age is 30.\n"
     ]
    }
   ],
   "source": [
    "@decorator_class\n",
    "def display_info(name, age):\n",
    "    print(f\"Employee name is {name} and age is {age}.\")\n",
    "\n",
    "display_info('John', 30)"
   ]
  },
  {
   "cell_type": "code",
   "execution_count": 38,
   "id": "ea7259e1",
   "metadata": {},
   "outputs": [
    {
     "name": "stdout",
     "output_type": "stream",
     "text": [
      "call method before greetings\n",
      "Greetings of the day!\n"
     ]
    }
   ],
   "source": [
    "@decorator_class\n",
    "def greetings():\n",
    "    print(f\"Greetings of the day!\")\n",
    "\n",
    "greetings()"
   ]
  },
  {
   "cell_type": "code",
   "execution_count": 39,
   "id": "8fd47234",
   "metadata": {},
   "outputs": [
    {
     "name": "stdout",
     "output_type": "stream",
     "text": [
      "call method before student_info\n",
      "Student name is 10001 and grade is 3.67.\n"
     ]
    }
   ],
   "source": [
    "@decorator_class\n",
    "def student_info(enrollment_number, grade):\n",
    "    print(f\"Student name is {enrollment_number} and grade is {grade}.\")\n",
    "\n",
    "student_info(10001, 3.67)"
   ]
  },
  {
   "cell_type": "markdown",
   "id": "a6f500b6",
   "metadata": {},
   "source": [
    "### Example 03"
   ]
  },
  {
   "cell_type": "code",
   "execution_count": 40,
   "id": "d853171a",
   "metadata": {},
   "outputs": [],
   "source": [
    "def my_logger(orig_func):\n",
    "    import logging\n",
    "    logging.basicConfig(filename='{}.log'.format(orig_func.__name__), level=logging.INFO)\n",
    "\n",
    "    def wrapper(*args, **kwargs):\n",
    "        logging.info(\n",
    "            'Ran with args: {}, and kwargs: {}'.format(args, kwargs))\n",
    "        return orig_func(*args, **kwargs)\n",
    "\n",
    "    return wrapper"
   ]
  },
  {
   "cell_type": "code",
   "execution_count": 41,
   "id": "cb90783b",
   "metadata": {},
   "outputs": [
    {
     "name": "stdout",
     "output_type": "stream",
     "text": [
      "Employee name is Aakash and age is 25.\n"
     ]
    }
   ],
   "source": [
    "@my_logger\n",
    "def display_info(name, age):\n",
    "    print(f\"Employee name is {name} and age is {age}.\")\n",
    "\n",
    "display_info('Aakash', 25)"
   ]
  },
  {
   "cell_type": "code",
   "execution_count": 42,
   "id": "55d63600",
   "metadata": {},
   "outputs": [
    {
     "name": "stdout",
     "output_type": "stream",
     "text": [
      "Employee name is Modi and age is 72.\n"
     ]
    }
   ],
   "source": [
    "@my_logger\n",
    "def display_info(name, age):\n",
    "    print(f\"Employee name is {name} and age is {age}.\")\n",
    "\n",
    "display_info('Modi', 72)"
   ]
  },
  {
   "cell_type": "markdown",
   "id": "fe0db429",
   "metadata": {},
   "source": [
    "### Example 04"
   ]
  },
  {
   "cell_type": "code",
   "execution_count": 43,
   "id": "ffe9eca8",
   "metadata": {},
   "outputs": [],
   "source": [
    "def my_timer(orig_func):\n",
    "    import time\n",
    "\n",
    "    def wrapper(*args, **kwargs):\n",
    "        t1 = time.time()\n",
    "        result = orig_func(*args, **kwargs)\n",
    "        t2 = time.time()\n",
    "        print('{} ran in: {} sec'.format(orig_func.__name__, t2 - t1))\n",
    "        return result\n",
    "\n",
    "    return wrapper"
   ]
  },
  {
   "cell_type": "code",
   "execution_count": 44,
   "id": "bef0df41",
   "metadata": {},
   "outputs": [
    {
     "name": "stdout",
     "output_type": "stream",
     "text": [
      "Employee name is Modi and age is 72.\n",
      "display_info ran in: 1.002333641052246 sec\n"
     ]
    }
   ],
   "source": [
    "import time\n",
    "@my_timer\n",
    "def display_info(name, age):\n",
    "    time.sleep(1) ## suspends the execution for 1 second.\n",
    "    print(f\"Employee name is {name} and age is {age}.\")\n",
    "\n",
    "display_info('Modi', 72)"
   ]
  },
  {
   "cell_type": "code",
   "execution_count": 45,
   "id": "541b145a",
   "metadata": {},
   "outputs": [
    {
     "name": "stdout",
     "output_type": "stream",
     "text": [
      "Student name is 10001 and grade is 3.67.\n",
      "student_info ran in: 1.018502950668335 sec\n"
     ]
    }
   ],
   "source": [
    "import time\n",
    "@my_timer\n",
    "def student_info(enrollment_number, grade):\n",
    "    time.sleep(1) ## suspends the execution for 1 second.\n",
    "    print(f\"Student name is {enrollment_number} and grade is {grade}.\")\n",
    "\n",
    "student_info(10001, 3.67)"
   ]
  },
  {
   "cell_type": "code",
   "execution_count": null,
   "id": "4725587c",
   "metadata": {},
   "outputs": [],
   "source": []
  }
 ],
 "metadata": {
  "kernelspec": {
   "display_name": "Python 3 (ipykernel)",
   "language": "python",
   "name": "python3"
  },
  "language_info": {
   "codemirror_mode": {
    "name": "ipython",
    "version": 3
   },
   "file_extension": ".py",
   "mimetype": "text/x-python",
   "name": "python",
   "nbconvert_exporter": "python",
   "pygments_lexer": "ipython3",
   "version": "3.9.12"
  }
 },
 "nbformat": 4,
 "nbformat_minor": 5
}
