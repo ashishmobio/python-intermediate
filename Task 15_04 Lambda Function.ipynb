{
 "cells": [
  {
   "cell_type": "markdown",
   "id": "5031fe22",
   "metadata": {},
   "source": [
    "# Lambda Expressions, Map, and Filter\n",
    "\n",
    "We have two built in functions, filter and map. Once we learn about how these operate, we can learn about the lambda expression, which will come in handy when you begin to develop your skills further"
   ]
  },
  {
   "cell_type": "markdown",
   "id": "7a3e5e7f",
   "metadata": {},
   "source": [
    "### map function\n",
    "The map function allows you to \"map\" a function to an iterable object. That is to say you can quickly call the same function to every item in an iterable, such as a list. For example:"
   ]
  },
  {
   "cell_type": "code",
   "execution_count": 1,
   "id": "0425d65b",
   "metadata": {},
   "outputs": [],
   "source": [
    "## Example 1\n",
    "\n",
    "def square(num):\n",
    "    return num**2"
   ]
  },
  {
   "cell_type": "code",
   "execution_count": 2,
   "id": "033a4fc9",
   "metadata": {},
   "outputs": [],
   "source": [
    "my_nums = [1,2,3,4,5]"
   ]
  },
  {
   "cell_type": "code",
   "execution_count": 3,
   "id": "52a85d4b",
   "metadata": {},
   "outputs": [
    {
     "data": {
      "text/plain": [
       "<map at 0x20c8a4620a0>"
      ]
     },
     "execution_count": 3,
     "metadata": {},
     "output_type": "execute_result"
    }
   ],
   "source": [
    "map(square,my_nums)"
   ]
  },
  {
   "cell_type": "code",
   "execution_count": 4,
   "id": "3583d27a",
   "metadata": {},
   "outputs": [
    {
     "name": "stdout",
     "output_type": "stream",
     "text": [
      "1\n",
      "4\n",
      "9\n",
      "16\n",
      "25\n"
     ]
    }
   ],
   "source": [
    "for item in map(square,my_nums):\n",
    "    print(item)"
   ]
  },
  {
   "cell_type": "code",
   "execution_count": 5,
   "id": "6ff3fdd5",
   "metadata": {},
   "outputs": [
    {
     "data": {
      "text/plain": [
       "[1, 4, 9, 16, 25]"
      ]
     },
     "execution_count": 5,
     "metadata": {},
     "output_type": "execute_result"
    }
   ],
   "source": [
    "list(map(square,my_nums))"
   ]
  },
  {
   "cell_type": "code",
   "execution_count": 6,
   "id": "c5eff57d",
   "metadata": {},
   "outputs": [],
   "source": [
    "## Example 2\n",
    "\n",
    "def splicer(mystring):\n",
    "    if len(mystring) % 2 == 0:\n",
    "        return 'even'\n",
    "    else:\n",
    "        return 'odd'"
   ]
  },
  {
   "cell_type": "code",
   "execution_count": 7,
   "id": "02381538",
   "metadata": {},
   "outputs": [],
   "source": [
    "mynames = ['John','Cindy','Sarah','Kelly','Mike']"
   ]
  },
  {
   "cell_type": "code",
   "execution_count": 8,
   "id": "ebd95c7e",
   "metadata": {},
   "outputs": [
    {
     "data": {
      "text/plain": [
       "['even', 'odd', 'odd', 'odd', 'even']"
      ]
     },
     "execution_count": 8,
     "metadata": {},
     "output_type": "execute_result"
    }
   ],
   "source": [
    "list(map(splicer, mynames))"
   ]
  },
  {
   "cell_type": "code",
   "execution_count": 9,
   "id": "d45a8b1f",
   "metadata": {},
   "outputs": [
    {
     "data": {
      "text/plain": [
       "['J', 'C', 'S', 'K', 'M', 'R']"
      ]
     },
     "execution_count": 9,
     "metadata": {},
     "output_type": "execute_result"
    }
   ],
   "source": [
    "## Example 3\n",
    "\n",
    "def first_letter(mystring):\n",
    "    return mystring[0]\n",
    "\n",
    "mynames = ['John','Cindy','Sarah','Kelly','Mike','Rakesh']\n",
    "\n",
    "list(map(first_letter, mynames))"
   ]
  },
  {
   "cell_type": "markdown",
   "id": "3f3cc9a9",
   "metadata": {},
   "source": [
    "### filter function\n",
    "The filter function returns an iterator yielding those items of iterable for which function(item) is true. Meaning you need to filter by a function that returns either True or False. Then passing that into filter (along with your iterable) and you will get back only the results that would return True when passed to the function."
   ]
  },
  {
   "cell_type": "code",
   "execution_count": 10,
   "id": "241438f7",
   "metadata": {},
   "outputs": [],
   "source": [
    "def check_even(num):\n",
    "    return num % 2 == 0 "
   ]
  },
  {
   "cell_type": "code",
   "execution_count": 11,
   "id": "8ee6c80b",
   "metadata": {},
   "outputs": [],
   "source": [
    "nums = [0,1,2,3,4,5,6,7,8,9,10]"
   ]
  },
  {
   "cell_type": "code",
   "execution_count": 12,
   "id": "7b267062",
   "metadata": {},
   "outputs": [
    {
     "data": {
      "text/plain": [
       "[True, False, True, False, True, False, True, False, True, False, True]"
      ]
     },
     "execution_count": 12,
     "metadata": {},
     "output_type": "execute_result"
    }
   ],
   "source": [
    "list(map(check_even, nums))"
   ]
  },
  {
   "cell_type": "code",
   "execution_count": 13,
   "id": "3cdd2348",
   "metadata": {},
   "outputs": [
    {
     "data": {
      "text/plain": [
       "[0, 2, 4, 6, 8, 10]"
      ]
     },
     "execution_count": 13,
     "metadata": {},
     "output_type": "execute_result"
    }
   ],
   "source": [
    "list(filter(check_even, nums))"
   ]
  },
  {
   "cell_type": "code",
   "execution_count": 14,
   "id": "7015aaa8",
   "metadata": {},
   "outputs": [
    {
     "name": "stdout",
     "output_type": "stream",
     "text": [
      "0\n",
      "2\n",
      "4\n",
      "6\n",
      "8\n",
      "10\n"
     ]
    }
   ],
   "source": [
    "for item in filter(check_even, nums):\n",
    "    print(item)"
   ]
  },
  {
   "cell_type": "markdown",
   "id": "413a83e0",
   "metadata": {},
   "source": [
    "### lambda expression\n",
    "* One of Pythons most usefultools is the lambda expression. \n",
    "\n",
    "\n",
    "* lambda expressions allow us to create \"anonymous\" functions. \n",
    "\n",
    "\n",
    "* This basically means we can quickly make ad-hoc functions without needing to properly define a function using def.\n",
    "\n",
    "\n",
    "* Function objects returned by running lambda expressions work exactly the same as those created and assigned by defs. "
   ]
  },
  {
   "cell_type": "markdown",
   "id": "f9816157",
   "metadata": {},
   "source": [
    "There is key difference that makes lambda useful in specialized roles:\n",
    "\n",
    "* lambda's body is a single expression, not a block of statements.\n",
    "\n",
    "\n",
    "* lambda is designed for coding simple functions, and def handles the larger tasks."
   ]
  },
  {
   "cell_type": "code",
   "execution_count": 15,
   "id": "1ea36072",
   "metadata": {},
   "outputs": [
    {
     "data": {
      "text/plain": [
       "[1, 4, 9, 16, 25]"
      ]
     },
     "execution_count": 15,
     "metadata": {},
     "output_type": "execute_result"
    }
   ],
   "source": [
    "### Example 1: squaring a number without using lamdba function\n",
    "def square(num):\n",
    "    return num**2\n",
    "\n",
    "nums = [1, 2, 3, 4, 5]\n",
    "\n",
    "list(map(square, nums))"
   ]
  },
  {
   "cell_type": "code",
   "execution_count": 16,
   "id": "a8b76ae2",
   "metadata": {},
   "outputs": [
    {
     "data": {
      "text/plain": [
       "[1, 4, 9, 16, 25]"
      ]
     },
     "execution_count": 16,
     "metadata": {},
     "output_type": "execute_result"
    }
   ],
   "source": [
    "### Example 1: squaring a number using lamdba function\n",
    "nums = [1, 2, 3, 4, 5]\n",
    "\n",
    "list(map(lambda x: x**2, nums))"
   ]
  },
  {
   "cell_type": "code",
   "execution_count": 17,
   "id": "335172c0",
   "metadata": {},
   "outputs": [
    {
     "data": {
      "text/plain": [
       "[True, False, True, False, True]"
      ]
     },
     "execution_count": 17,
     "metadata": {},
     "output_type": "execute_result"
    }
   ],
   "source": [
    "### Example 2: Lambda expression for checking if the number is odd.\n",
    "\n",
    "nums = [1, 2, 3, 4, 5]\n",
    "\n",
    "list(map(lambda x: x%2 == 1, nums))"
   ]
  },
  {
   "cell_type": "code",
   "execution_count": 18,
   "id": "312493e2",
   "metadata": {},
   "outputs": [
    {
     "data": {
      "text/plain": [
       "[1, 3, 5]"
      ]
     },
     "execution_count": 18,
     "metadata": {},
     "output_type": "execute_result"
    }
   ],
   "source": [
    "### Example 3: Lambda expression for returning the odd numbers.\n",
    "\n",
    "nums = [1, 2, 3, 4, 5]\n",
    "\n",
    "list(filter(lambda x: x%2 == 1, nums))"
   ]
  },
  {
   "cell_type": "code",
   "execution_count": 19,
   "id": "71399971",
   "metadata": {},
   "outputs": [
    {
     "data": {
      "text/plain": [
       "['J', 'C', 'S', 'K', 'M', 'R']"
      ]
     },
     "execution_count": 19,
     "metadata": {},
     "output_type": "execute_result"
    }
   ],
   "source": [
    "### Example 4: Lambda expression for returning the first character of a string.\n",
    "mynames = ['John','Cindy','Sarah','Kelly','Mike','Rakesh']\n",
    "\n",
    "list(map(lambda s: s[0], mynames))"
   ]
  },
  {
   "cell_type": "code",
   "execution_count": 20,
   "id": "40305193",
   "metadata": {},
   "outputs": [
    {
     "data": {
      "text/plain": [
       "['nhoJ', 'ydniC', 'haraS', 'ylleK', 'ekiM', 'hsekaR']"
      ]
     },
     "execution_count": 20,
     "metadata": {},
     "output_type": "execute_result"
    }
   ],
   "source": [
    "### Example 5: Lambda expression for reversing the words.\n",
    "mynames = ['John','Cindy','Sarah','Kelly','Mike','Rakesh']\n",
    "\n",
    "list(map(lambda s: s[::-1], mynames))"
   ]
  },
  {
   "cell_type": "code",
   "execution_count": 21,
   "id": "a86e9157",
   "metadata": {},
   "outputs": [
    {
     "name": "stdout",
     "output_type": "stream",
     "text": [
      "13\n"
     ]
    }
   ],
   "source": [
    "### Example 6: Return sum of three numbers\n",
    "\n",
    "summation = lambda a, b, c : a + b + c\n",
    "print(summation(5, 6, 2))"
   ]
  },
  {
   "cell_type": "code",
   "execution_count": 22,
   "id": "9928e3ef",
   "metadata": {},
   "outputs": [
    {
     "name": "stdout",
     "output_type": "stream",
     "text": [
      "[90, 59, 21, 60]\n"
     ]
    }
   ],
   "source": [
    "### Example 7: Return people above 18 yrs\n",
    "ages = [13, 90, 17, 59, 21, 60, 5]\n",
    " \n",
    "adults = list(filter(lambda age: age > 18, ages))\n",
    " \n",
    "print(adults)"
   ]
  },
  {
   "cell_type": "code",
   "execution_count": 23,
   "id": "b23f57d2",
   "metadata": {},
   "outputs": [
    {
     "data": {
      "text/html": [
       "<div>\n",
       "<style scoped>\n",
       "    .dataframe tbody tr th:only-of-type {\n",
       "        vertical-align: middle;\n",
       "    }\n",
       "\n",
       "    .dataframe tbody tr th {\n",
       "        vertical-align: top;\n",
       "    }\n",
       "\n",
       "    .dataframe thead th {\n",
       "        text-align: right;\n",
       "    }\n",
       "</style>\n",
       "<table border=\"1\" class=\"dataframe\">\n",
       "  <thead>\n",
       "    <tr style=\"text-align: right;\">\n",
       "      <th></th>\n",
       "      <th>Name</th>\n",
       "      <th>Status</th>\n",
       "      <th>Birthyear</th>\n",
       "    </tr>\n",
       "  </thead>\n",
       "  <tbody>\n",
       "    <tr>\n",
       "      <th>0</th>\n",
       "      <td>Luke</td>\n",
       "      <td>Father</td>\n",
       "      <td>1976</td>\n",
       "    </tr>\n",
       "    <tr>\n",
       "      <th>1</th>\n",
       "      <td>Gina</td>\n",
       "      <td>Mother</td>\n",
       "      <td>1984</td>\n",
       "    </tr>\n",
       "    <tr>\n",
       "      <th>2</th>\n",
       "      <td>Sam</td>\n",
       "      <td>Son</td>\n",
       "      <td>2013</td>\n",
       "    </tr>\n",
       "    <tr>\n",
       "      <th>3</th>\n",
       "      <td>Emma</td>\n",
       "      <td>Daughter</td>\n",
       "      <td>2016</td>\n",
       "    </tr>\n",
       "  </tbody>\n",
       "</table>\n",
       "</div>"
      ],
      "text/plain": [
       "   Name    Status  Birthyear\n",
       "0  Luke    Father       1976\n",
       "1  Gina    Mother       1984\n",
       "2   Sam       Son       2013\n",
       "3  Emma  Daughter       2016"
      ]
     },
     "execution_count": 23,
     "metadata": {},
     "output_type": "execute_result"
    }
   ],
   "source": [
    "### Example 8: Return the approximate current age.\n",
    "import pandas as pd\n",
    "df = pd.DataFrame({\n",
    "    'Name': ['Luke','Gina','Sam','Emma'],\n",
    "    'Status': ['Father', 'Mother', 'Son', 'Daughter'],\n",
    "    'Birthyear': [1976, 1984, 2013, 2016],\n",
    "})\n",
    "\n",
    "df"
   ]
  },
  {
   "cell_type": "code",
   "execution_count": 24,
   "id": "59f9b3ce",
   "metadata": {},
   "outputs": [
    {
     "data": {
      "text/html": [
       "<div>\n",
       "<style scoped>\n",
       "    .dataframe tbody tr th:only-of-type {\n",
       "        vertical-align: middle;\n",
       "    }\n",
       "\n",
       "    .dataframe tbody tr th {\n",
       "        vertical-align: top;\n",
       "    }\n",
       "\n",
       "    .dataframe thead th {\n",
       "        text-align: right;\n",
       "    }\n",
       "</style>\n",
       "<table border=\"1\" class=\"dataframe\">\n",
       "  <thead>\n",
       "    <tr style=\"text-align: right;\">\n",
       "      <th></th>\n",
       "      <th>Name</th>\n",
       "      <th>Status</th>\n",
       "      <th>Birthyear</th>\n",
       "      <th>Age</th>\n",
       "    </tr>\n",
       "  </thead>\n",
       "  <tbody>\n",
       "    <tr>\n",
       "      <th>0</th>\n",
       "      <td>Luke</td>\n",
       "      <td>Father</td>\n",
       "      <td>1976</td>\n",
       "      <td>46</td>\n",
       "    </tr>\n",
       "    <tr>\n",
       "      <th>1</th>\n",
       "      <td>Gina</td>\n",
       "      <td>Mother</td>\n",
       "      <td>1984</td>\n",
       "      <td>38</td>\n",
       "    </tr>\n",
       "    <tr>\n",
       "      <th>2</th>\n",
       "      <td>Sam</td>\n",
       "      <td>Son</td>\n",
       "      <td>2013</td>\n",
       "      <td>9</td>\n",
       "    </tr>\n",
       "    <tr>\n",
       "      <th>3</th>\n",
       "      <td>Emma</td>\n",
       "      <td>Daughter</td>\n",
       "      <td>2016</td>\n",
       "      <td>6</td>\n",
       "    </tr>\n",
       "  </tbody>\n",
       "</table>\n",
       "</div>"
      ],
      "text/plain": [
       "   Name    Status  Birthyear  Age\n",
       "0  Luke    Father       1976   46\n",
       "1  Gina    Mother       1984   38\n",
       "2   Sam       Son       2013    9\n",
       "3  Emma  Daughter       2016    6"
      ]
     },
     "execution_count": 24,
     "metadata": {},
     "output_type": "execute_result"
    }
   ],
   "source": [
    "df['Age'] = df['Birthyear'].apply(lambda year: 2022 - year)\n",
    "df"
   ]
  },
  {
   "cell_type": "code",
   "execution_count": 25,
   "id": "f300eab1",
   "metadata": {},
   "outputs": [
    {
     "data": {
      "text/html": [
       "<div>\n",
       "<style scoped>\n",
       "    .dataframe tbody tr th:only-of-type {\n",
       "        vertical-align: middle;\n",
       "    }\n",
       "\n",
       "    .dataframe tbody tr th {\n",
       "        vertical-align: top;\n",
       "    }\n",
       "\n",
       "    .dataframe thead th {\n",
       "        text-align: right;\n",
       "    }\n",
       "</style>\n",
       "<table border=\"1\" class=\"dataframe\">\n",
       "  <thead>\n",
       "    <tr style=\"text-align: right;\">\n",
       "      <th></th>\n",
       "      <th>Name</th>\n",
       "      <th>Status</th>\n",
       "      <th>Birthyear</th>\n",
       "      <th>Age</th>\n",
       "      <th>Gender</th>\n",
       "    </tr>\n",
       "  </thead>\n",
       "  <tbody>\n",
       "    <tr>\n",
       "      <th>0</th>\n",
       "      <td>Luke</td>\n",
       "      <td>Father</td>\n",
       "      <td>1976</td>\n",
       "      <td>46</td>\n",
       "      <td>Male</td>\n",
       "    </tr>\n",
       "    <tr>\n",
       "      <th>1</th>\n",
       "      <td>Gina</td>\n",
       "      <td>Mother</td>\n",
       "      <td>1984</td>\n",
       "      <td>38</td>\n",
       "      <td>Female</td>\n",
       "    </tr>\n",
       "    <tr>\n",
       "      <th>2</th>\n",
       "      <td>Sam</td>\n",
       "      <td>Son</td>\n",
       "      <td>2013</td>\n",
       "      <td>9</td>\n",
       "      <td>Female</td>\n",
       "    </tr>\n",
       "    <tr>\n",
       "      <th>3</th>\n",
       "      <td>Emma</td>\n",
       "      <td>Daughter</td>\n",
       "      <td>2016</td>\n",
       "      <td>6</td>\n",
       "      <td>Female</td>\n",
       "    </tr>\n",
       "  </tbody>\n",
       "</table>\n",
       "</div>"
      ],
      "text/plain": [
       "   Name    Status  Birthyear  Age  Gender\n",
       "0  Luke    Father       1976   46    Male\n",
       "1  Gina    Mother       1984   38  Female\n",
       "2   Sam       Son       2013    9  Female\n",
       "3  Emma  Daughter       2016    6  Female"
      ]
     },
     "execution_count": 25,
     "metadata": {},
     "output_type": "execute_result"
    }
   ],
   "source": [
    "### Example 9: Return the gender of the person based on Status\n",
    "df['Gender'] = df['Status'].apply(lambda status: 'Male' if status == ('Father' or 'Son') else 'Female')\n",
    "df"
   ]
  },
  {
   "cell_type": "code",
   "execution_count": 26,
   "id": "5cdca95f",
   "metadata": {},
   "outputs": [
    {
     "data": {
      "text/html": [
       "<div>\n",
       "<style scoped>\n",
       "    .dataframe tbody tr th:only-of-type {\n",
       "        vertical-align: middle;\n",
       "    }\n",
       "\n",
       "    .dataframe tbody tr th {\n",
       "        vertical-align: top;\n",
       "    }\n",
       "\n",
       "    .dataframe thead th {\n",
       "        text-align: right;\n",
       "    }\n",
       "</style>\n",
       "<table border=\"1\" class=\"dataframe\">\n",
       "  <thead>\n",
       "    <tr style=\"text-align: right;\">\n",
       "      <th></th>\n",
       "      <th>Name</th>\n",
       "      <th>Status</th>\n",
       "      <th>Birthyear</th>\n",
       "      <th>Age</th>\n",
       "      <th>Gender</th>\n",
       "      <th>Minor</th>\n",
       "    </tr>\n",
       "  </thead>\n",
       "  <tbody>\n",
       "    <tr>\n",
       "      <th>0</th>\n",
       "      <td>Luke</td>\n",
       "      <td>Father</td>\n",
       "      <td>1976</td>\n",
       "      <td>46</td>\n",
       "      <td>Male</td>\n",
       "      <td>False</td>\n",
       "    </tr>\n",
       "    <tr>\n",
       "      <th>1</th>\n",
       "      <td>Gina</td>\n",
       "      <td>Mother</td>\n",
       "      <td>1984</td>\n",
       "      <td>38</td>\n",
       "      <td>Female</td>\n",
       "      <td>False</td>\n",
       "    </tr>\n",
       "    <tr>\n",
       "      <th>2</th>\n",
       "      <td>Sam</td>\n",
       "      <td>Son</td>\n",
       "      <td>2013</td>\n",
       "      <td>9</td>\n",
       "      <td>Female</td>\n",
       "      <td>True</td>\n",
       "    </tr>\n",
       "    <tr>\n",
       "      <th>3</th>\n",
       "      <td>Emma</td>\n",
       "      <td>Daughter</td>\n",
       "      <td>2016</td>\n",
       "      <td>6</td>\n",
       "      <td>Female</td>\n",
       "      <td>True</td>\n",
       "    </tr>\n",
       "  </tbody>\n",
       "</table>\n",
       "</div>"
      ],
      "text/plain": [
       "   Name    Status  Birthyear  Age  Gender  Minor\n",
       "0  Luke    Father       1976   46    Male  False\n",
       "1  Gina    Mother       1984   38  Female  False\n",
       "2   Sam       Son       2013    9  Female   True\n",
       "3  Emma  Daughter       2016    6  Female   True"
      ]
     },
     "execution_count": 26,
     "metadata": {},
     "output_type": "execute_result"
    }
   ],
   "source": [
    "### Example 10: Return the status of the person if he or she is minor\n",
    "df['Minor'] = df['Age'].apply(lambda age: age < 18)\n",
    "df"
   ]
  },
  {
   "cell_type": "code",
   "execution_count": null,
   "id": "dbf71a88",
   "metadata": {},
   "outputs": [],
   "source": []
  }
 ],
 "metadata": {
  "kernelspec": {
   "display_name": "Python 3 (ipykernel)",
   "language": "python",
   "name": "python3"
  },
  "language_info": {
   "codemirror_mode": {
    "name": "ipython",
    "version": 3
   },
   "file_extension": ".py",
   "mimetype": "text/x-python",
   "name": "python",
   "nbconvert_exporter": "python",
   "pygments_lexer": "ipython3",
   "version": "3.9.12"
  }
 },
 "nbformat": 4,
 "nbformat_minor": 5
}
