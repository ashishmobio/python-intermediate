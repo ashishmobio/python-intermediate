{
 "cells": [
  {
   "cell_type": "markdown",
   "id": "82e1658a",
   "metadata": {},
   "source": [
    "### Example"
   ]
  },
  {
   "cell_type": "code",
   "execution_count": 1,
   "id": "2afeba7c",
   "metadata": {},
   "outputs": [],
   "source": [
    "def nameCheck(name):\n",
    "    \n",
    "    if len(name) < 2:\n",
    "        print('Checking for name length ...')\n",
    "        return 'Invalid name!'\n",
    "    \n",
    "    elif name.isspace():\n",
    "        print('Checking if name contains only whitspaces ...')\n",
    "        return 'Invalid name!'\n",
    "    \n",
    "    elif name.isalpha():\n",
    "        print('Checking if all the characters in the text are letters ...')\n",
    "        return 'Name is valid!'\n",
    "    \n",
    "    elif name.replace(' ','').isalpha():\n",
    "        print('Checking for full name...')\n",
    "        return 'Name is valid!'\n",
    "    \n",
    "    else:\n",
    "        print('Failed a check...')\n",
    "        return 'Invalid name!'       "
   ]
  },
  {
   "cell_type": "code",
   "execution_count": 2,
   "id": "a5591ca4",
   "metadata": {},
   "outputs": [
    {
     "name": "stdout",
     "output_type": "stream",
     "text": [
      "Checking if all the characters in the text are letters ...\n"
     ]
    },
    {
     "data": {
      "text/plain": [
       "'Name is valid!'"
      ]
     },
     "execution_count": 2,
     "metadata": {},
     "output_type": "execute_result"
    }
   ],
   "source": [
    "nameCheck('Ashish')"
   ]
  },
  {
   "cell_type": "code",
   "execution_count": 3,
   "id": "26923cc5",
   "metadata": {},
   "outputs": [
    {
     "name": "stdout",
     "output_type": "stream",
     "text": [
      "Failed a check...\n"
     ]
    },
    {
     "data": {
      "text/plain": [
       "'Invalid name!'"
      ]
     },
     "execution_count": 3,
     "metadata": {},
     "output_type": "execute_result"
    }
   ],
   "source": [
    "nameCheck('Ashish123')"
   ]
  },
  {
   "cell_type": "code",
   "execution_count": 4,
   "id": "af5e7487",
   "metadata": {},
   "outputs": [],
   "source": [
    "import logging\n",
    "\n",
    "logging.basicConfig(filename = 'demo.log', level = logging.DEBUG)\n",
    "\n",
    "def nameCheck(name):\n",
    "    \n",
    "    if len(name) < 2:\n",
    "        logging.debug('Checking for name length ...')\n",
    "        return 'Invalid name!'\n",
    "    \n",
    "    elif name.isspace():\n",
    "        logging.debug('Checking if name contains only whitspaces ...')\n",
    "        return 'Invalid name!'\n",
    "    \n",
    "    elif name.isalpha():\n",
    "        logging.debug('Checking if all the characters in the text are letters ...')\n",
    "        return 'Name is valid!'\n",
    "    \n",
    "    elif name.replace(' ','').isalpha():\n",
    "        logging.debug('Checking for full name...')\n",
    "        return 'Name is valid!'\n",
    "    \n",
    "    else:\n",
    "        logging.debug('Failed a check...')\n",
    "        return 'Invalid name!'   "
   ]
  },
  {
   "cell_type": "code",
   "execution_count": 5,
   "id": "6f05828e",
   "metadata": {},
   "outputs": [
    {
     "data": {
      "text/plain": [
       "'Invalid name!'"
      ]
     },
     "execution_count": 5,
     "metadata": {},
     "output_type": "execute_result"
    }
   ],
   "source": [
    "nameCheck('Ashish123')"
   ]
  },
  {
   "cell_type": "code",
   "execution_count": null,
   "id": "7cf0bf58",
   "metadata": {},
   "outputs": [],
   "source": []
  }
 ],
 "metadata": {
  "kernelspec": {
   "display_name": "Python 3 (ipykernel)",
   "language": "python",
   "name": "python3"
  },
  "language_info": {
   "codemirror_mode": {
    "name": "ipython",
    "version": 3
   },
   "file_extension": ".py",
   "mimetype": "text/x-python",
   "name": "python",
   "nbconvert_exporter": "python",
   "pygments_lexer": "ipython3",
   "version": "3.9.12"
  }
 },
 "nbformat": 4,
 "nbformat_minor": 5
}
