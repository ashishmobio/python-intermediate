{
 "cells": [
  {
   "cell_type": "markdown",
   "id": "fee43491",
   "metadata": {},
   "source": [
    "# Exception and Error"
   ]
  },
  {
   "cell_type": "markdown",
   "id": "0e11db64",
   "metadata": {},
   "source": [
    "## try and except\n",
    "\n",
    "The basic terminology and syntax used to handle errors in Python are the try and except statements. The code which can cause an exception to occur is put in the try block and the handling of the exception is then implemented in the except block of code. The syntax follows:\n",
    "\n",
    "```\n",
    "try:\n",
    "   You do your operations here...\n",
    "   ...\n",
    "except ExceptionI:\n",
    "   If there is ExceptionI, then execute this block.\n",
    "except ExceptionII:\n",
    "   If there is ExceptionII, then execute this block.\n",
    "   ...\n",
    "else:\n",
    "   If there is no exception then execute this block. \n",
    "```"
   ]
  },
  {
   "cell_type": "markdown",
   "id": "50fc162f",
   "metadata": {},
   "source": [
    "### finally\n",
    "The finally: block of code will always be run regardless if there was an exception in the try code block. The syntax is:\n",
    "```\n",
    "try:\n",
    "   Code block here\n",
    "   ...\n",
    "   Due to any exception, this code may be skipped!\n",
    "finally:\n",
    "   This code block would always be executed.\n",
    "```"
   ]
  },
  {
   "cell_type": "markdown",
   "id": "28945708",
   "metadata": {},
   "source": [
    "### Example 01"
   ]
  },
  {
   "cell_type": "code",
   "execution_count": 1,
   "id": "cd8bb15a",
   "metadata": {},
   "outputs": [],
   "source": [
    "# f = open('testfile','r')\n",
    "# f.write('Test write this')\n",
    "# This code will throw an error, since file is not in write mode."
   ]
  },
  {
   "cell_type": "code",
   "execution_count": 2,
   "id": "b2c3f9b9",
   "metadata": {},
   "outputs": [
    {
     "name": "stdout",
     "output_type": "stream",
     "text": [
      "Content written successfully\n"
     ]
    }
   ],
   "source": [
    "## write mode\n",
    "try:\n",
    "    f = open('testfile','w')\n",
    "    f.write('Test write this')\n",
    "except IOError:\n",
    "    # This will only check for an IOError exception and then execute this print statement\n",
    "    print(\"Error: Could not find file or read data\")\n",
    "else:\n",
    "    print(\"Content written successfully\")\n",
    "    f.close()"
   ]
  },
  {
   "cell_type": "code",
   "execution_count": 3,
   "id": "0bf57ae8",
   "metadata": {},
   "outputs": [
    {
     "name": "stdout",
     "output_type": "stream",
     "text": [
      "Error: Could not find file or read data\n"
     ]
    }
   ],
   "source": [
    "## read mode\n",
    "try:\n",
    "    f = open('testfile','r')\n",
    "    f.write('Test write this')\n",
    "except IOError:\n",
    "    # This will only check for an IOError exception and then execute this print statement\n",
    "    print(\"Error: Could not find file or read data\")\n",
    "else:\n",
    "    print(\"Content written successfully\")\n",
    "    f.close()"
   ]
  },
  {
   "cell_type": "code",
   "execution_count": 4,
   "id": "49693dee",
   "metadata": {},
   "outputs": [
    {
     "name": "stdout",
     "output_type": "stream",
     "text": [
      "Error: Could not find file or read data\n"
     ]
    }
   ],
   "source": [
    "# We could have also just said except: if we weren't sure what exception would occu\n",
    "try:\n",
    "    f = open('testfile','r')\n",
    "    f.write('Test write this')\n",
    "except:\n",
    "    # This will check for any exception and then execute this print statement\n",
    "    print(\"Error: Could not find file or read data\")\n",
    "else:\n",
    "    print(\"Content written successfully\")\n",
    "    f.close()"
   ]
  },
  {
   "cell_type": "markdown",
   "id": "79b69d3b",
   "metadata": {},
   "source": [
    "### Example 02"
   ]
  },
  {
   "cell_type": "code",
   "execution_count": 5,
   "id": "180e4bee",
   "metadata": {},
   "outputs": [
    {
     "name": "stdout",
     "output_type": "stream",
     "text": [
      "Always execute finally code blocks\n"
     ]
    }
   ],
   "source": [
    "## illustrates the use of finally block, which runs always\n",
    "\n",
    "try:\n",
    "    f = open(\"testfile\", \"w\")\n",
    "    f.write(\"Test write statement\")\n",
    "    f.close()\n",
    "finally:\n",
    "    print(\"Always execute finally code blocks\")"
   ]
  },
  {
   "cell_type": "markdown",
   "id": "0616e875",
   "metadata": {},
   "source": [
    "### Example 03"
   ]
  },
  {
   "cell_type": "code",
   "execution_count": 6,
   "id": "85aa0420",
   "metadata": {},
   "outputs": [],
   "source": [
    "def askint():\n",
    "    while True:\n",
    "        try:\n",
    "            value = int(input(\"Please enter an integer: \"))\n",
    "        except:\n",
    "            print(\"Looks like you did not enter an integer!\")\n",
    "            continue\n",
    "        else:\n",
    "            print(\"Yes, that's an integer!\")\n",
    "            print(value)\n",
    "            break\n",
    "        finally:\n",
    "            print(\"---------------------------------------------------------------\")"
   ]
  },
  {
   "cell_type": "code",
   "execution_count": 7,
   "id": "5f38c1de",
   "metadata": {},
   "outputs": [
    {
     "name": "stdout",
     "output_type": "stream",
     "text": [
      "Please enter an integer: twenty\n",
      "Looks like you did not enter an integer!\n",
      "---------------------------------------------------------------\n",
      "Please enter an integer: 20\n",
      "Yes, that's an integer!\n",
      "20\n",
      "---------------------------------------------------------------\n"
     ]
    }
   ],
   "source": [
    "askint()"
   ]
  },
  {
   "cell_type": "code",
   "execution_count": 8,
   "id": "a90a9a5d",
   "metadata": {},
   "outputs": [
    {
     "name": "stdout",
     "output_type": "stream",
     "text": [
      "Please enter an integer: thirty\n",
      "Looks like you did not enter an integer!\n",
      "---------------------------------------------------------------\n",
      "Please enter an integer: 30\n",
      "Yes, that's an integer!\n",
      "30\n",
      "---------------------------------------------------------------\n"
     ]
    }
   ],
   "source": [
    "askint()"
   ]
  },
  {
   "cell_type": "markdown",
   "id": "5fc642aa",
   "metadata": {},
   "source": [
    "### Example 04"
   ]
  },
  {
   "cell_type": "code",
   "execution_count": 9,
   "id": "501a3a6b",
   "metadata": {},
   "outputs": [],
   "source": [
    "## f = open(\"somefile.txt\")"
   ]
  },
  {
   "cell_type": "code",
   "execution_count": 10,
   "id": "a246f072",
   "metadata": {},
   "outputs": [
    {
     "name": "stdout",
     "output_type": "stream",
     "text": [
      "Sorry! This file does not exist.\n"
     ]
    }
   ],
   "source": [
    "try:\n",
    "    f = open(\"somefile.txt\")\n",
    "except:\n",
    "    print(\"Sorry! This file does not exist.\")"
   ]
  },
  {
   "cell_type": "code",
   "execution_count": 11,
   "id": "cd035429",
   "metadata": {},
   "outputs": [],
   "source": [
    "# try:\n",
    "#     f = open(\"somefile.txt\", \"w\")\n",
    "#     var = bad_variable\n",
    "# except FileNotFoundError:\n",
    "#     print(\"Sorry! This file does not exist.\")"
   ]
  },
  {
   "cell_type": "code",
   "execution_count": 12,
   "id": "555ff0cd",
   "metadata": {},
   "outputs": [
    {
     "name": "stdout",
     "output_type": "stream",
     "text": [
      "Sorry. Something went wrong.\n"
     ]
    }
   ],
   "source": [
    "try:\n",
    "    f = open(\"somefile.txt\", \"w\")\n",
    "    var = bad_variable\n",
    "except FileNotFoundError:\n",
    "    print(\"Sorry! This file does not exist.\")\n",
    "except Exception:\n",
    "    print(\"Sorry. Something went wrong.\")"
   ]
  },
  {
   "cell_type": "code",
   "execution_count": 13,
   "id": "56df1855",
   "metadata": {},
   "outputs": [
    {
     "name": "stdout",
     "output_type": "stream",
     "text": [
      "name 'bad_variable' is not defined\n"
     ]
    }
   ],
   "source": [
    "try:\n",
    "    f = open(\"somefile.txt\", \"w\")\n",
    "    var = bad_variable\n",
    "except Exception as E:\n",
    "    print(E)"
   ]
  },
  {
   "cell_type": "code",
   "execution_count": 14,
   "id": "0bbdf59f",
   "metadata": {},
   "outputs": [
    {
     "name": "stdout",
     "output_type": "stream",
     "text": [
      "[Errno 2] No such file or directory: 'dummy.txt'\n"
     ]
    }
   ],
   "source": [
    "try:\n",
    "    f = open(\"dummy.txt\")\n",
    "    var = bad_variable\n",
    "except Exception as E:\n",
    "    print(E)"
   ]
  },
  {
   "cell_type": "code",
   "execution_count": 15,
   "id": "852f4fe4",
   "metadata": {},
   "outputs": [
    {
     "name": "stdout",
     "output_type": "stream",
     "text": [
      "The content inside the file is as follows: \n",
      "ABCDEFGHIJKLMNOPQRSTUVWXYZ\n"
     ]
    }
   ],
   "source": [
    "try:\n",
    "    f = open(\"somefile.txt\", \"w\")\n",
    "    f.write(\"ABCDEFGHIJKLMNOPQRSTUVWXYZ\")\n",
    "    f.close()\n",
    "except Exception as E:\n",
    "    print(E)\n",
    "else:\n",
    "    print(\"The content inside the file is as follows: \")\n",
    "    f = open(\"somefile.txt\", \"r\")\n",
    "    print(f.read())\n",
    "    f.close()"
   ]
  },
  {
   "cell_type": "code",
   "execution_count": 16,
   "id": "4f757a6c",
   "metadata": {},
   "outputs": [
    {
     "name": "stdout",
     "output_type": "stream",
     "text": [
      "The content inside the file is as follows: \n",
      "ABCDEFGHIJKLMNOPQRSTUVWXYZ\n",
      "Executes this any how finally.\n"
     ]
    }
   ],
   "source": [
    "try:\n",
    "    f = open(\"somefile.txt\", \"w\")\n",
    "    f.write(\"ABCDEFGHIJKLMNOPQRSTUVWXYZ\")\n",
    "    f.close()\n",
    "except Exception as E:\n",
    "    print(E)\n",
    "else:\n",
    "    print(\"The content inside the file is as follows: \")\n",
    "    f = open(\"somefile.txt\", \"r\")\n",
    "    print(f.read())\n",
    "    f.close()\n",
    "finally:\n",
    "    print('Executes this any how finally.')"
   ]
  },
  {
   "cell_type": "code",
   "execution_count": 17,
   "id": "69dea7fb",
   "metadata": {},
   "outputs": [
    {
     "name": "stdout",
     "output_type": "stream",
     "text": [
      "not writable\n",
      "Executes this any how finally.\n"
     ]
    }
   ],
   "source": [
    "try:\n",
    "    f = open(\"somefile.txt\", \"r\")\n",
    "    f.write(\"ABCDEFGHIJKLMNOPQRSTUVWXYZ\")\n",
    "    f.close()\n",
    "except Exception as E:\n",
    "    print(E)\n",
    "else:\n",
    "    print(\"The content inside the file is as follows: \")\n",
    "    f = open(\"somefile.txt\", \"r\")\n",
    "    print(f.read())\n",
    "    f.close()\n",
    "finally:\n",
    "    print('Executes this any how finally.')"
   ]
  },
  {
   "cell_type": "markdown",
   "id": "2af8407f",
   "metadata": {},
   "source": [
    "### Example 05"
   ]
  },
  {
   "cell_type": "code",
   "execution_count": 18,
   "id": "6135f6d3",
   "metadata": {},
   "outputs": [
    {
     "name": "stdout",
     "output_type": "stream",
     "text": [
      "Starting the code ...\n",
      "An error occurred.\n",
      "-------------------------------------\n"
     ]
    }
   ],
   "source": [
    "# put unsafe operation in try block\n",
    "try:\n",
    "     print(\"Starting the code ...\")\n",
    "          \n",
    "     # unsafe operation\n",
    "     print(1 / 0)\n",
    "# if error occur the it goes in except block\n",
    "except:\n",
    "     print(\"An error occurred.\")\n",
    "# final code in finally block\n",
    "finally:\n",
    "     print(\"-------------------------------------\")"
   ]
  },
  {
   "cell_type": "code",
   "execution_count": 19,
   "id": "fa0dd7fd",
   "metadata": {},
   "outputs": [
    {
     "name": "stdout",
     "output_type": "stream",
     "text": [
      "Starting the code ...\n",
      "0\n",
      "-------------------------------------\n"
     ]
    }
   ],
   "source": [
    "# put safe operation in try block\n",
    "try:\n",
    "     print(\"Starting the code ...\")\n",
    "          \n",
    "     # safe operation\n",
    "     print(1 * 0)\n",
    "# if error occur the it goes in except block\n",
    "except:\n",
    "     print(\"An error occurred.\")\n",
    "# final code in finally block\n",
    "finally:\n",
    "     print(\"-------------------------------------\")"
   ]
  },
  {
   "cell_type": "markdown",
   "id": "56b3a8b3",
   "metadata": {},
   "source": [
    "### Example 06"
   ]
  },
  {
   "cell_type": "code",
   "execution_count": 20,
   "id": "cb74f5e2",
   "metadata": {},
   "outputs": [
    {
     "name": "stdout",
     "output_type": "stream",
     "text": [
      "Enter the amount: 1500\n",
      "Please add money sufficient money.\n"
     ]
    }
   ],
   "source": [
    "try:\n",
    "    amount = int(input('Enter the amount: '))\n",
    "    if amount < 3000:   \n",
    "        # raise the ValueError\n",
    "        raise ValueError(\"Please add money sufficient money.\")\n",
    "    else:\n",
    "        print(\"You are eligible to purchase the Self Paced course\")\n",
    "              \n",
    "# if false then raise the value error\n",
    "except ValueError as e:\n",
    "        print(e)"
   ]
  },
  {
   "cell_type": "code",
   "execution_count": 21,
   "id": "2d27b3db",
   "metadata": {},
   "outputs": [
    {
     "name": "stdout",
     "output_type": "stream",
     "text": [
      "Enter the amount: 3500\n",
      "You are eligible to purchase the Self Paced course\n"
     ]
    }
   ],
   "source": [
    "try:\n",
    "    amount = int(input('Enter the amount: '))\n",
    "    if amount < 3000:   \n",
    "        # raise the ValueError\n",
    "        raise ValueError(\"Please add money sufficient money.\")\n",
    "    else:\n",
    "        print(\"You are eligible to purchase the Self Paced course\")\n",
    "              \n",
    "# if false then raise the value error\n",
    "except ValueError as e:\n",
    "        print(e)"
   ]
  },
  {
   "cell_type": "markdown",
   "id": "dce799f8",
   "metadata": {},
   "source": [
    "### Example 07"
   ]
  },
  {
   "cell_type": "code",
   "execution_count": 22,
   "id": "8bd416ba",
   "metadata": {},
   "outputs": [],
   "source": [
    "# 1/0\n",
    "\n",
    "# ---------------------------------------------------------------------------\n",
    "# ZeroDivisionError                         Traceback (most recent call last)\n",
    "# Input In [31], in <cell line: 1>()\n",
    "# ----> 1 1/0\n",
    "\n",
    "# ZeroDivisionError: division by zero"
   ]
  },
  {
   "cell_type": "code",
   "execution_count": 23,
   "id": "281db137",
   "metadata": {},
   "outputs": [],
   "source": [
    "# 2 + 'three'\n",
    "\n",
    "# ---------------------------------------------------------------------------\n",
    "# TypeError                                 Traceback (most recent call last)\n",
    "# Input In [30], in <cell line: 1>()\n",
    "# ----> 1 2 + 'three'\n",
    "\n",
    "# TypeError: unsupported operand type(s) for +: 'int' and 'str'"
   ]
  },
  {
   "cell_type": "code",
   "execution_count": 24,
   "id": "b17eec82",
   "metadata": {},
   "outputs": [
    {
     "name": "stdout",
     "output_type": "stream",
     "text": [
      "Enter the number 1: twenty\n",
      "The type of exception error is ValueError\n",
      "Please enter numbers correctly.\n",
      "-------------------------------------------------\n",
      "Enter the number 1: 29\n",
      "Enter the number 2: thirty nine\n",
      "The type of exception error is ValueError\n",
      "Please enter numbers correctly.\n",
      "-------------------------------------------------\n",
      "Enter the number 1: 20\n",
      "Enter the number 2: 30\n",
      "Sum of two numbers = 50\n",
      "-------------------------------------------------\n"
     ]
    }
   ],
   "source": [
    "### If you would like to know the type of exception error\n",
    "\n",
    "while True:\n",
    "    try:\n",
    "        number_1 = int(input(\"Enter the number 1: \"))\n",
    "        number_2 = int(input(\"Enter the number 2: \"))\n",
    "    except Exception as e:\n",
    "        print(\"The type of exception error is\", type(e).__name__)\n",
    "        print(\"Please enter numbers correctly.\")\n",
    "        continue\n",
    "    else:\n",
    "        z = number_1 + number_2\n",
    "        print(f\"Sum of two numbers = {z}\")\n",
    "        break\n",
    "    finally:\n",
    "        print('-------------------------------------------------')"
   ]
  },
  {
   "cell_type": "markdown",
   "id": "50b85a98",
   "metadata": {},
   "source": [
    "### Example 08"
   ]
  },
  {
   "cell_type": "code",
   "execution_count": 25,
   "id": "e13cfc7f",
   "metadata": {},
   "outputs": [],
   "source": [
    "## Find the square of a number.\n",
    "def ask():\n",
    "    \n",
    "    while True:\n",
    "        try:\n",
    "            n = int(input('Input an integer: '))\n",
    "        except:\n",
    "            print('An error occurred! Please try again!')\n",
    "            continue\n",
    "        else:\n",
    "            break\n",
    "            \n",
    "        \n",
    "    print('Thank you, your number squared is: ',n**2)"
   ]
  },
  {
   "cell_type": "code",
   "execution_count": 26,
   "id": "f7512488",
   "metadata": {},
   "outputs": [
    {
     "name": "stdout",
     "output_type": "stream",
     "text": [
      "Input an integer: four\n",
      "An error occurred! Please try again!\n",
      "Input an integer: 4\n",
      "Thank you, your number squared is:  16\n"
     ]
    }
   ],
   "source": [
    "ask()"
   ]
  },
  {
   "cell_type": "markdown",
   "id": "8d13099a",
   "metadata": {},
   "source": [
    "Resources:\n",
    "\n",
    "1. https://docs.python.org/3/library/exceptions.html\n",
    "2. https://www.udemy.com/course/complete-python-bootcamp/learn/lecture/9478394#questions\n",
    "3. https://www.youtube.com/watch?v=NIWwJbo-9_8\n",
    "4. https://www.geeksforgeeks.org/errors-and-exceptions-in-python/"
   ]
  },
  {
   "cell_type": "code",
   "execution_count": null,
   "id": "a552c2fe",
   "metadata": {},
   "outputs": [],
   "source": []
  }
 ],
 "metadata": {
  "kernelspec": {
   "display_name": "Python 3 (ipykernel)",
   "language": "python",
   "name": "python3"
  },
  "language_info": {
   "codemirror_mode": {
    "name": "ipython",
    "version": 3
   },
   "file_extension": ".py",
   "mimetype": "text/x-python",
   "name": "python",
   "nbconvert_exporter": "python",
   "pygments_lexer": "ipython3",
   "version": "3.9.12"
  }
 },
 "nbformat": 4,
 "nbformat_minor": 5
}
